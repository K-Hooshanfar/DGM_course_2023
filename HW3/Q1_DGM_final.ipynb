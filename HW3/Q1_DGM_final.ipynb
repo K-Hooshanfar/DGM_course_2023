{
 "cells": [
  {
   "cell_type": "code",
   "execution_count": null,
   "id": "c07f5307-8116-4fda-9785-cd5f1be94d5d",
   "metadata": {},
   "outputs": [],
   "source": [
    "# !pip install --upgrade transformers\n",
    "# !pip install --upgrade datasets\n",
    "# !pip -qq install  bitsandbytes\n",
    "# !pip -qq install  peft"
   ]
  },
  {
   "cell_type": "code",
   "execution_count": 2,
   "id": "f3710901-6f55-4579-9446-17ff686e14c2",
   "metadata": {
    "tags": []
   },
   "outputs": [],
   "source": [
    "from datasets import load_dataset\n",
    "from transformers import AutoModelForSeq2SeqLM\n",
    "from transformers import AutoTokenizer\n",
    "from transformers import GenerationConfig\n",
    "from peft import LoraConfig, PeftModel, PeftConfig\n",
    "import pandas as pd\n",
    "import torch\n",
    "import json\n",
    "import re\n",
    "from pprint import pprint\n",
    "import time\n",
    "from transformers import AutoModelForCausalLM, TrainingArguments, Trainer , BitsAndBytesConfig"
   ]
  },
  {
   "cell_type": "code",
   "execution_count": null,
   "id": "dab7c903-7dd2-4422-afde-dc4c05d40ac1",
   "metadata": {},
   "outputs": [],
   "source": [
    "!huggingface-cli login"
   ]
  },
  {
   "cell_type": "markdown",
   "id": "92129b2b-7ebd-4042-a392-6bf6a7860568",
   "metadata": {},
   "source": [
    "# Load Model"
   ]
  },
  {
   "cell_type": "code",
   "execution_count": 6,
   "id": "3cd20b7e-071e-4add-bbfd-4d9a1d2c2440",
   "metadata": {
    "tags": []
   },
   "outputs": [
    {
     "name": "stderr",
     "output_type": "stream",
     "text": [
      "Special tokens have been added in the vocabulary, make sure the associated word embeddings are fine-tuned or trained.\n"
     ]
    }
   ],
   "source": [
    "import torch\n",
    "from transformers import AutoModelForCausalLM, AutoTokenizer\n",
    "\n",
    "# Load tokenizer and model \n",
    "tokenizer = AutoTokenizer.from_pretrained(\"stabilityai/stablelm-3b-4e1t\", use_auth_token=True)\n",
    "model = AutoModelForCausalLM.from_pretrained(\"stabilityai/stablelm-3b-4e1t\", torch_dtype=torch.bfloat16,use_auth_token=True, trust_remote_code=True)"
   ]
  },
  {
   "cell_type": "code",
   "execution_count": 128,
   "id": "af50057a-5146-4041-bd43-0d0fe2c099d8",
   "metadata": {
    "tags": []
   },
   "outputs": [],
   "source": [
    "model = model.to(\"cuda:1\")"
   ]
  },
  {
   "cell_type": "markdown",
   "id": "d9209acf-6e46-465e-9ba8-c7045f0b63b7",
   "metadata": {},
   "source": [
    "# load dataset - cleaning"
   ]
  },
  {
   "cell_type": "code",
   "execution_count": 17,
   "id": "fce0659d-8b0a-4f16-96d4-21c68ab79dec",
   "metadata": {
    "tags": []
   },
   "outputs": [
    {
     "data": {
      "text/plain": [
       "DatasetDict({\n",
       "    train: Dataset({\n",
       "        features: ['original dialog id', 'new dialog id', 'dialog index', 'original dialog info', 'log', 'prompt'],\n",
       "        num_rows: 879\n",
       "    })\n",
       "    validation: Dataset({\n",
       "        features: ['original dialog id', 'new dialog id', 'dialog index', 'original dialog info', 'log', 'prompt'],\n",
       "        num_rows: 110\n",
       "    })\n",
       "    test: Dataset({\n",
       "        features: ['original dialog id', 'new dialog id', 'dialog index', 'original dialog info', 'log', 'prompt'],\n",
       "        num_rows: 110\n",
       "    })\n",
       "})"
      ]
     },
     "execution_count": 17,
     "metadata": {},
     "output_type": "execute_result"
    }
   ],
   "source": [
    "# Load the dataset from Hugging Face\n",
    "huggingface_dataset_name = \"Salesforce/dialogstudio\"\n",
    "dataset = load_dataset(huggingface_dataset_name, \"TweetSumm\")\n",
    "dataset"
   ]
  },
  {
   "cell_type": "code",
   "execution_count": 9,
   "id": "0377514e-5614-4864-92a8-2bb578ed04f7",
   "metadata": {
    "tags": []
   },
   "outputs": [],
   "source": [
    "from typing import List, Tuple, Dict\n",
    "import json\n",
    "import csv\n",
    "\n",
    "class Turn:\n",
    "    def __init__(self, is_agent: bool, sentences: List[str]):\n",
    "        self._is_agent = is_agent\n",
    "        self.sentences = sentences\n",
    "\n",
    "    def is_agent(self):\n",
    "        return self._is_agent\n",
    "\n",
    "    def get_sentences(self):\n",
    "        return self.sentences\n",
    "\n",
    "    def get_json(self) -> str:\n",
    "        return json.dumps({\n",
    "            'is_agent': self.is_agent(),\n",
    "            'sentences': self.sentences\n",
    "        })\n",
    "\n",
    "    def __str__(self):\n",
    "        return ('Agent:\\t' if self.is_agent() else 'Customer:\\t') + ' '.join(self.sentences)\n",
    "\n",
    "\n",
    "class Dialog:\n",
    "    def __init__(self, dialog_id: str, turns: List[Turn]):\n",
    "        self.dialog_id = dialog_id\n",
    "        self.turns = turns\n",
    "\n",
    "    def get_dialog_id(self) -> str:\n",
    "        return self.dialog_id\n",
    "\n",
    "    def get_turns(self) -> List[Turn]:\n",
    "        return self.turns\n",
    "\n",
    "    def get_json(self) -> str:\n",
    "        turn_list = [json.loads(turn.get_json()) for turn in self.turns]\n",
    "        return json.dumps({\n",
    "            'dialog_id': self.dialog_id,\n",
    "            'turns': turn_list\n",
    "        })\n",
    "\n",
    "    def __str__(self):\n",
    "        result = self.dialog_id + '\\n'\n",
    "        for turn in self.turns:\n",
    "            result += '\\t' + str(turn) + '\\n'\n",
    "        return result\n",
    "\n",
    "\n",
    "class DialogWithSummaries:\n",
    "    def __init__(self, dialog_id: str, turns: List[Turn],\n",
    "                 extractive_summaries: List[List[Turn]],\n",
    "                 abstractive_summaries: List[List[str]]):\n",
    "        self.dialog = Dialog(dialog_id, turns)\n",
    "        self.extractive_summaries = extractive_summaries\n",
    "        self.abstractive_summaries = abstractive_summaries\n",
    "\n",
    "    def get_dialog(self) -> Dialog:\n",
    "        return self.dialog\n",
    "\n",
    "    def get_extractive_summaries(self) -> List[List[Turn]]:\n",
    "        return self.extractive_summaries\n",
    "\n",
    "    def get_abstractive_summaries(self) -> List[List[str]]:\n",
    "        return self.abstractive_summaries\n",
    "\n",
    "    def get_json(self) -> str:\n",
    "        dialog = json.loads(self.dialog.get_json())\n",
    "        extractive_summaries_json = [[json.loads(turn.get_json()) for turn in summary] for summary in self.extractive_summaries]\n",
    "        abstractive_summaries_json = self.abstractive_summaries\n",
    "\n",
    "        return json.dumps({\n",
    "            'dialog': dialog,\n",
    "            'summaries': {\n",
    "                'extractive_summaries': extractive_summaries_json,\n",
    "                'abstractive_summaries': abstractive_summaries_json\n",
    "            }\n",
    "        })\n",
    "\n",
    "    def __str__(self):\n",
    "        result = str(self.dialog) + '\\nExtractive summaries:\\n'\n",
    "        for cnt, summary in enumerate(self.extractive_summaries):\n",
    "            result += f'{cnt}:\\n' + '\\n'.join('\\t' + str(turn) for turn in summary) + '\\n'\n",
    "\n",
    "        result += 'Abstractive summaries:\\n'\n",
    "        for cnt, summary in enumerate(self.abstractive_summaries):\n",
    "            result += f'{cnt}:\\n\\t' + ' '.join(summary) + '\\n'\n",
    "\n",
    "        return result"
   ]
  },
  {
   "cell_type": "code",
   "execution_count": 10,
   "id": "fc3f3d27-4906-4108-80f9-28e664d3405c",
   "metadata": {
    "tags": []
   },
   "outputs": [],
   "source": [
    "from datasets import load_dataset\n",
    "from typing import List\n",
    "import json\n",
    "\n",
    "class NewTweetSumProcessor:\n",
    "    def __init__(self, dataset):\n",
    "        self.dialogs = [self.process_dialog(dialog_data) for dialog_data in dataset]\n",
    "\n",
    "    def process_dialog(self, dialog_data):\n",
    "        dialog_id = dialog_data['new dialog id']\n",
    "        original_dialog_info = json.loads(dialog_data['original dialog info'])\n",
    "        turns = []\n",
    "        for turn_data in dialog_data['log']:\n",
    "            turns.extend(self.process_turn(turn_data))\n",
    "        extractive_summaries = self.get_summaries(original_dialog_info['summaries']['extractive_summaries'])\n",
    "        abstractive_summaries = original_dialog_info['summaries']['abstractive_summaries']\n",
    "        return DialogWithSummaries(dialog_id, turns, extractive_summaries, abstractive_summaries)\n",
    "\n",
    "\n",
    "    def process_turn(self, turn_data):\n",
    "        turns = []\n",
    "\n",
    "        # Add user utterance as a customer turn if present\n",
    "        if 'user utterance' in turn_data and turn_data['user utterance']:\n",
    "            turns.append(Turn(False, [turn_data['user utterance']]))\n",
    "\n",
    "        # Add system response as an agent turn if present\n",
    "        if 'system response' in turn_data and turn_data['system response']:\n",
    "            turns.append(Turn(True, [turn_data['system response']]))\n",
    "\n",
    "        return turns\n",
    "\n",
    "\n",
    "    def get_summaries(self, extractive_summary_data):\n",
    "        summaries = []\n",
    "        for summary in extractive_summary_data:\n",
    "            turns = [Turn(item['is_agent'], item['sentences']) for item in summary]\n",
    "            summaries.append(turns)\n",
    "        return summaries"
   ]
  },
  {
   "cell_type": "code",
   "execution_count": 11,
   "id": "76e39b7d-a9b2-4b48-b99e-2e13aeba5a96",
   "metadata": {
    "tags": []
   },
   "outputs": [
    {
     "name": "stdout",
     "output_type": "stream",
     "text": [
      "TweetSumm--test--2\n",
      "\tCustomer:\t@AirbnbHelp hi , my Acc was linked to an old number. Now I’m asked to verify my Acc , where a code / call wil be sent to my old number. Any way that I can link my Acc to my current number? Pls help\n",
      "\tAgent:\t@637109 Hi there, we are here to help. We will have a specialist contact you about changing your phone number. Thank you.\n",
      "\tCustomer:\t@AirbnbHelp Thanks. Hope to get in touch soon\n",
      "\tAgent:\t@637109 That is no problem. Please let us know if you have any further questions in the meantime.\n",
      "\tCustomer:\t@AirbnbHelp Hi sorry , is it for my account : __email__\n",
      "\tAgent:\t@637109 Can you please delete this post as it does have personal info in it. We have updated your Case Manager https://t.co/WCQEFGIlXC @637109 who will be following up with you shortly. Feel free to DM us anytime with any other questions or concerns 2/2\n",
      "\tCustomer:\t@AirbnbHelp Thank you\n",
      "\tAgent:\t@637109 That is no problem. Please do not hesitate to contact us with any further questions. Thank you.\n",
      "\n",
      "Extractive summaries:\n",
      "0:\n",
      "\tCustomer:\t@AirbnbHelp hi , my Acc was linked to an old number.\n",
      "\tCustomer:\tNow I’m asked to verify my Acc , where a code / call wil be sent to my old number.\n",
      "\tAgent:\tWe will have a specialist contact you about changing your phone number.\n",
      "\tAgent:\tWe have updated your Case Manager https://t.co/WCQEFGIlXC\n",
      "1:\n",
      "\tCustomer:\t@AirbnbHelp hi , my Acc was linked to an old number.\n",
      "\tAgent:\t@637109 Can you please delete this post as it does have personal info in it.\n",
      "\tAgent:\tWe have updated your Case Manager https://t.co/WCQEFGIlXC\n",
      "2:\n",
      "\tCustomer:\tAny way that I can link my Acc to my current number?\n",
      "\tAgent:\tWe will have a specialist contact you about changing your phone number.\n",
      "\tAgent:\tWe have updated your Case Manager https://t.co/WCQEFGIlXC\n",
      "Abstractive summaries:\n",
      "0:\n",
      "\tCustomer is asking about the ACC to link to the current  number. Agent says that they have updated their case manager.\n",
      "1:\n",
      "\tCustomer is enquiring that whether they can change the current number to link the account as they have old number which was linked. Agent states that they have updated to case manager, they will look into it and also to DM for further assistance.\n",
      "2:\n",
      "\tCustomer wants to link their account to their new number since its asking verification where a code/call will be sent to their old number. Agent replies that they have updated the Case Manager to resolve this issue.\n",
      "\n"
     ]
    }
   ],
   "source": [
    "processor = NewTweetSumProcessor(dataset['test'])  # or 'test', 'validation' \n",
    "dialogs = processor.dialogs\n",
    "\n",
    "# Example of how to use the processed data\n",
    "for dialog in dialogs[1:2]:  # Display first 5 dialogs for example\n",
    "    print(dialog)"
   ]
  },
  {
   "cell_type": "code",
   "execution_count": 14,
   "id": "f7161be1-61d9-45c9-aa64-e725208b301a",
   "metadata": {
    "tags": []
   },
   "outputs": [],
   "source": [
    "import pandas as pd\n",
    "\n",
    "def create_dataframe(processor):\n",
    "    dialogues = []\n",
    "    summaries = []\n",
    "\n",
    "    for dialog in processor.dialogs:\n",
    "        # Concatenate all turns into a single string for the dialogue column\n",
    "        dialogue_str = '\\n'.join(str(turn) for turn in dialog.get_dialog().get_turns())\n",
    "        dialogues.append(dialogue_str)\n",
    "\n",
    "        # Process and concatenate the first abstractive summary for the summary column\n",
    "        if dialog.get_abstractive_summaries():  # Check if there are abstractive summaries\n",
    "            first_summary = '\\n'.join(dialog.get_abstractive_summaries()[0])\n",
    "            summaries.append(first_summary)\n",
    "        else:\n",
    "            summaries.append('')  # If no abstractive summary, add an empty string\n",
    "\n",
    "    return pd.DataFrame({'dialogue': dialogues, 'summary': summaries})\n",
    "\n",
    "# Process the dataset\n",
    "processor = NewTweetSumProcessor(dataset['train'])  # or 'test', 'validation' \n",
    "df = create_dataframe(processor)\n",
    "\n",
    "# Save the DataFrame to a CSV file if needed\n",
    "df.to_csv('train_dataset.csv', index=False)"
   ]
  },
  {
   "cell_type": "code",
   "execution_count": 16,
   "id": "a5a03ed5-5616-4cdf-8834-f57743731386",
   "metadata": {
    "tags": []
   },
   "outputs": [
    {
     "name": "stdout",
     "output_type": "stream",
     "text": [
      "...................................................................................................\n",
      "Example  1\n",
      "...................................................................................................\n",
      "INPUT DIALOGUE:\n",
      "Customer:\tBought these biscuits a couple of weeks ago, only just opened and looked at the best before date... @49975\n",
      "Agent:\t@393926 We can't see a picture of the best before date or biscuits attached to your tweets here. Please can you tweet or DM it to us again? Thanks. https://t.co/FqaAtoiNzs\n",
      "Customer:\t@marksandspencer  https://t.co/bjTjk67Tv1 @marksandspencer  https://t.co/W11bv0UVeA @marksandspencer  https://t.co/1MgEDf0cfM\n",
      "Agent:\t@393926 We'd certainly like to take a closer look into this. Please DM us a picture of your full receipt. https://t.co/FqaAto1cHU\n",
      "Customer:\t@marksandspencer Don’t have a receipt as they were bought for my grandparents 3 weeks ago and have only just realised the date on them @marksandspencer The biscuits were purchased at the Marks and Spencer’s Store at the Ricoh Arena, Coventry\n",
      "Agent:\t@393926 Did yo use a sparks card on your transaction, Cian?\n",
      "Customer:\t@marksandspencer Yes\n",
      "Agent:\t@393926 Hi Cian. I'm really sorry to see this, especially when it was such a lovely gesture too! No worries though - we got your back ;) 1/3 @393926 Is there a barcode on the tin anywhere? If there is, could you take a pic and DM it to us please &amp; also  let us know how much they cost? 2/3 @393926 Once we have those, we'll explain what happens next. Cheers, Steve :) 3/3\n",
      "...................................................................................................\n",
      "BASELINE HUMAN SUMMARY:\n",
      "Customer bought a tin of biscuits and the use by date was old.\n",
      "Wants a photo of the tin and date and how much they cost then they'll explain what happens next.\n",
      "...................................................................................................\n",
      "\n"
     ]
    }
   ],
   "source": [
    "example_indices = [10]\n",
    "\n",
    "dash_line = '.'.join('' for x in range(100))\n",
    "\n",
    "for i, index in enumerate(example_indices):\n",
    "    print(dash_line)\n",
    "    print('Example ', i + 1)\n",
    "    print(dash_line)\n",
    "    print('INPUT DIALOGUE:')\n",
    "    print(df.iloc[index]['dialogue'])  \n",
    "    print(dash_line)\n",
    "    print('BASELINE HUMAN SUMMARY:')\n",
    "    print(df.iloc[index]['summary'])  \n",
    "    print(dash_line)\n",
    "    print()"
   ]
  },
  {
   "cell_type": "markdown",
   "id": "53bc352c-8a8b-4dca-97dd-409805a461c5",
   "metadata": {},
   "source": [
    "# zero-shot"
   ]
  },
  {
   "cell_type": "code",
   "execution_count": 21,
   "id": "6bd18954-abca-438f-bbc4-cd9ce2fdc6f7",
   "metadata": {
    "tags": []
   },
   "outputs": [
    {
     "name": "stderr",
     "output_type": "stream",
     "text": [
      "The attention mask and the pad token id were not set. As a consequence, you may observe unexpected behavior. Please pass your input's `attention_mask` to obtain reliable results.\n",
      "Setting `pad_token_id` to `eos_token_id`:0 for open-end generation.\n"
     ]
    },
    {
     "name": "stdout",
     "output_type": "stream",
     "text": [
      "...................................................................................................\n",
      "Example  1\n",
      "...................................................................................................\n",
      "INPUT PROMPT:\n",
      "\n",
      "Summarize the following conversation accurately:Customer:\tBought these biscuits a couple of weeks ago, only just opened and looked at the best before date... @49975\n",
      "Agent:\t@393926 We can't see a picture of the best before date or biscuits attached to your tweets here. Please can you tweet or DM it to us again? Thanks. https://t.co/FqaAtoiNzs\n",
      "Customer:\t@marksandspencer  https://t.co/bjTjk67Tv1 @marksandspencer  https://t.co/W11bv0UVeA @marksandspencer  https://t.co/1MgEDf0cfM\n",
      "Agent:\t@393926 We'd certainly like to take a closer look into this. Please DM us a picture of your full receipt. https://t.co/FqaAto1cHU\n",
      "Customer:\t@marksandspencer Don’t have a receipt as they were bought for my grandparents 3 weeks ago and have only just realised the date on them @marksandspencer The biscuits were purchased at the Marks and Spencer’s Store at the Ricoh Arena, Coventry\n",
      "Agent:\t@393926 Did yo use a sparks card on your transaction, Cian?\n",
      "Customer:\t@marksandspencer Yes\n",
      "Agent:\t@393926 Hi Cian. I'm really sorry to see this, especially when it was such a lovely gesture too! No worries though - we got your back ;) 1/3 @393926 Is there a barcode on the tin anywhere? If there is, could you take a pic and DM it to us please &amp; also  let us know how much they cost? 2/3 @393926 Once we have those, we'll explain what happens next. Cheers, Steve :) 3/3 \n",
      "Summary:\n",
      "    \n",
      "...................................................................................................\n",
      "BASELINE HUMAN SUMMARY:\n",
      "Customer bought a tin of biscuits and the use by date was old.\n",
      "Wants a photo of the tin and date and how much they cost then they'll explain what happens next.\n",
      "...................................................................................................\n",
      "MODEL GENERATION - ZERO SHOT:\n",
      "\n",
      "Summarize the following conversation accurately:Customer:\tBought these biscuits a couple of weeks ago, only just opened and looked at the best before date... @49975\n",
      "Agent:\t@393926 We can't see a picture of the best before date or biscuits attached to your tweets here. Please can you tweet or DM it to us again? Thanks. https://t.co/FqaAtoiNzs\n",
      "Customer:\t@marksandspencer  https://t.co/bjTjk67Tv1 @marksandspencer  https://t.co/W11bv0UVeA @marksandspencer  https://t.co/1MgEDf0cfM\n",
      "Agent:\t@393926 We'd certainly like to take a closer look into this. Please DM us a picture of your full receipt. https://t.co/FqaAto1cHU\n",
      "Customer:\t@marksandspencer Don’t have a receipt as they were bought for my grandparents 3 weeks ago and have only just realised the date on them @marksandspencer The biscuits were purchased at the Marks and Spencer’s Store at the Ricoh Arena, Coventry\n",
      "Agent:\t@393926 Did yo use a sparks card on your transaction, Cian?\n",
      "Customer:\t@marksandspencer Yes\n",
      "Agent:\t@393926 Hi Cian. I'm really sorry to see this, especially when it was such a lovely gesture too! No worries though - we got your back ;) 1/3 @393926 Is there a barcode on the tin anywhere? If there is, could you take a pic and DM it to us please &amp; also  let us know how much they cost? 2/3 @393926 Once we have those, we'll explain what happens next. Cheers, Steve :) 3/3 \n",
      "Summary:\n",
      "    The customer bought biscuits from Marks and Spencer and opened them to find that the best before date was after the date of purchase. The customer tweeted the store to complain. The store responded by asking for a picture of the receipt and the best before date. The customer responded by providing a picture of the receipt and the best before date. The store responded by asking for a picture of the barcode on the tin. The customer responded by providing a picture of the barcode on\n",
      "\n"
     ]
    }
   ],
   "source": [
    "for i, index in enumerate(example_indices):\n",
    "    dialogue = df.iloc[index]['dialogue']\n",
    "    summary = df.iloc[index]['summary']\n",
    "\n",
    "    prompt = f\"\"\"\n",
    "Summarize the following conversation accurately:{dialogue} \n",
    "Summary:\n",
    "    \"\"\"\n",
    "\n",
    "    # Input constructed prompt instead of the dialogue.\n",
    "    inputs = tokenizer(prompt, return_tensors='pt')\n",
    "    inputs = {key: value.to(model.device) for key, value in inputs.items()}  # Move inputs to the same device as the model\n",
    "\n",
    "    output = tokenizer.decode(\n",
    "        model.generate(\n",
    "            inputs[\"input_ids\"],\n",
    "            max_length=500, \n",
    "            num_beams=1,\n",
    "            temperature=0.8,\n",
    "        )[0],\n",
    "        skip_special_tokens=True\n",
    "    )\n",
    "    \n",
    "    # Splitting the output to get only the summary\n",
    "    split_output = output.split(\"Summary:\")\n",
    "    generated_summary = split_output[1].strip() if len(split_output) > 1 else \"Summary not generated properly.\"\n",
    "\n",
    "    print(dash_line)\n",
    "    print('Example ', i + 1)\n",
    "    print(dash_line)\n",
    "    print(f'INPUT PROMPT:\\n{prompt}')\n",
    "    print(dash_line)\n",
    "    print(f'BASELINE HUMAN SUMMARY:\\n{summary}')\n",
    "    print(dash_line)\n",
    "    print(f'MODEL GENERATION - ZERO SHOT:\\n{output}\\n')\n"
   ]
  },
  {
   "cell_type": "markdown",
   "id": "04fb4d71-4710-407a-9c07-763ed1a87fea",
   "metadata": {},
   "source": [
    "# One-shot"
   ]
  },
  {
   "cell_type": "code",
   "execution_count": 99,
   "id": "108322b1-bfde-4066-9c10-b2a4eb9beb6d",
   "metadata": {
    "tags": []
   },
   "outputs": [
    {
     "name": "stdout",
     "output_type": "stream",
     "text": [
      "Summarize this conversation accurately:\n",
      "\n",
      "Customer:\t@AmazonHelp why do y’all disconnect while in cut when you’re in the wrong? I’m so upset with your CS and would like to speak to a Supervisor\n",
      "Agent:\t@325154 I hate that this happened. Without providing personal info, can you tell us what's going on? We'd like to help if we can. ^AL\n",
      "Customer:\t@AmazonHelp Money was taken from my debit card for services I’ve never even used or received and now my money was put on another card? Yea ok @AmazonHelp How’d y’all take my money from one card but say you refunded it to a whole other card? &amp; don’t feel I should be compensated  your mishap😔🙁\n",
      "Agent:\t@325154 I'm sorry for the frustration so far. When you spoke with us, what insight was provided for you? ^SJ\n",
      "Customer:\t@AmazonHelp That I would have to locate where they “supposedly “ refunded it to. Why charge my card but not refund my card? Then just cut me off in chat\n",
      "Agent:\t@325154 I'm so sorry for the poor experience. We'd like another chance to look into it with you via phone: https://t.co/hApLpMlfHN ^WJ\n",
      "Customer:\t@AmazonHelp I’ve tried that twice already! What’s the next step for me to take on this matter? Supervisor or management? I have all the screenshots @AmazonHelp And emails too\n",
      "Agent:\t@325154 Reaching out via the link above would be the next step, so we can take care of it appropriately by phone. ^QJ\n",
      "\n",
      "Summary:Customer is complaining about the money deducted from his/her card.\n",
      "Agent stated that they will connect through phone and resolve the issue.\n",
      "\n",
      "Summarize this conversation accurately:\n",
      "\n",
      "Customer:\tBought these biscuits a couple of weeks ago, only just opened and looked at the best before date... @49975\n",
      "Agent:\t@393926 We can't see a picture of the best before date or biscuits attached to your tweets here. Please can you tweet or DM it to us again? Thanks. https://t.co/FqaAtoiNzs\n",
      "Customer:\t@marksandspencer  https://t.co/bjTjk67Tv1 @marksandspencer  https://t.co/W11bv0UVeA @marksandspencer  https://t.co/1MgEDf0cfM\n",
      "Agent:\t@393926 We'd certainly like to take a closer look into this. Please DM us a picture of your full receipt. https://t.co/FqaAto1cHU\n",
      "Customer:\t@marksandspencer Don’t have a receipt as they were bought for my grandparents 3 weeks ago and have only just realised the date on them @marksandspencer The biscuits were purchased at the Marks and Spencer’s Store at the Ricoh Arena, Coventry\n",
      "Agent:\t@393926 Did yo use a sparks card on your transaction, Cian?\n",
      "Customer:\t@marksandspencer Yes\n",
      "Agent:\t@393926 Hi Cian. I'm really sorry to see this, especially when it was such a lovely gesture too! No worries though - we got your back ;) 1/3 @393926 Is there a barcode on the tin anywhere? If there is, could you take a pic and DM it to us please &amp; also  let us know how much they cost? 2/3 @393926 Once we have those, we'll explain what happens next. Cheers, Steve :) 3/3\n",
      "\n",
      "Summary:\n"
     ]
    }
   ],
   "source": [
    "def one_shot_prompt(example=20, summarize=10):\n",
    "    prompt = ''\n",
    "\n",
    "    dialogue = df.iloc[example]['dialogue']\n",
    "    summary = df.iloc[example]['summary']\n",
    "\n",
    "    prompt += f\"Summarize this conversation accurately:\\n\\n{dialogue}\\n\\nSummary:{summary}\\n\\n\"\n",
    "\n",
    "    dialogue = df.iloc[summarize]['dialogue']\n",
    "    prompt += f\"Summarize this conversation accurately:\\n\\n{dialogue}\\n\\nSummary:\"\n",
    "    \n",
    "    return prompt\n",
    "\n",
    "one_shot_prompt = one_shot_prompt()\n",
    "\n",
    "print(one_shot_prompt)"
   ]
  },
  {
   "cell_type": "code",
   "execution_count": 100,
   "id": "89879b5d-1979-4f3b-86ee-a9ed4b2cff5f",
   "metadata": {
    "tags": []
   },
   "outputs": [
    {
     "name": "stderr",
     "output_type": "stream",
     "text": [
      "The attention mask and the pad token id were not set. As a consequence, you may observe unexpected behavior. Please pass your input's `attention_mask` to obtain reliable results.\n",
      "Setting `pad_token_id` to `eos_token_id`:0 for open-end generation.\n"
     ]
    },
    {
     "name": "stdout",
     "output_type": "stream",
     "text": [
      "...................................................................................................\n",
      "BASELINE HUMAN SUMMARY:\n",
      "Customer bought a tin of biscuits and the use by date was old.\n",
      "Wants a photo of the tin and date and how much they cost then they'll explain what happens next.\n",
      "\n",
      "...................................................................................................\n",
      "MODEL GENERATION - ONE SHOT:\n",
      "Summarize this conversation accurately:\n",
      "\n",
      "Customer:\t@AmazonHelp why do y’all disconnect while in cut when you’re in the wrong? I’m so upset with your CS and would like to speak to a Supervisor\n",
      "Agent:\t@325154 I hate that this happened. Without providing personal info, can you tell us what's going on? We'd like to help if we can. ^AL\n",
      "Customer:\t@AmazonHelp Money was taken from my debit card for services I’ve never even used or received and now my money was put on another card? Yea ok @AmazonHelp How’d y’all take my money from one card but say you refunded it to a whole other card? &amp; don’t feel I should be compensated  your mishap😔🙁\n",
      "Agent:\t@325154 I'm sorry for the frustration so far. When you spoke with us, what insight was provided for you? ^SJ\n",
      "Customer:\t@AmazonHelp That I would have to locate where they “supposedly “ refunded it to. Why charge my card but not refund my card? Then just cut me off in chat\n",
      "Agent:\t@325154 I'm so sorry for the poor experience. We'd like another chance to look into it with you via phone: https://t.co/hApLpMlfHN ^WJ\n",
      "Customer:\t@AmazonHelp I’ve tried that twice already! What’s the next step for me to take on this matter? Supervisor or management? I have all the screenshots @AmazonHelp And emails too\n",
      "Agent:\t@325154 Reaching out via the link above would be the next step, so we can take care of it appropriately by phone. ^QJ\n",
      "\n",
      "Summary:Customer is complaining about the money deducted from his/her card.\n",
      "Agent stated that they will connect through phone and resolve the issue.\n",
      "\n",
      "Summarize this conversation accurately:\n",
      "\n",
      "Customer:\tBought these biscuits a couple of weeks ago, only just opened and looked at the best before date... @49975\n",
      "Agent:\t@393926 We can't see a picture of the best before date or biscuits attached to your tweets here. Please can you tweet or DM it to us again? Thanks. https://t.co/FqaAtoiNzs\n",
      "Customer:\t@marksandspencer  https://t.co/bjTjk67Tv1 @marksandspencer  https://t.co/W11bv0UVeA @marksandspencer  https://t.co/1MgEDf0cfM\n",
      "Agent:\t@393926 We'd certainly like to take a closer look into this. Please DM us a picture of your full receipt. https://t.co/FqaAto1cHU\n",
      "Customer:\t@marksandspencer Don’t have a receipt as they were bought for my grandparents 3 weeks ago and have only just realised the date on them @marksandspencer The biscuits were purchased at the Marks and Spencer’s Store at the Ricoh Arena, Coventry\n",
      "Agent:\t@393926 Did yo use a sparks card on your transaction, Cian?\n",
      "Customer:\t@marksandspencer Yes\n",
      "Agent:\t@393926 Hi Cian. I'm really sorry to see this, especially when it was such a lovely gesture too! No worries though - we got your back ;) 1/3 @393926 Is there a barcode on the tin anywhere? If there is, could you take a pic and DM it to us please &amp; also  let us know how much they cost? 2/3 @393926 Once we have those, we'll explain what happens next. Cheers, Steve :) 3/3\n",
      "\n",
      "Summary:Marks and Spencers customer is not happy with the expiry date of a biscuit pack he/she bought. The agent is trying to get more information from the customer.\n",
      "\n",
      "\n",
      "\n"
     ]
    }
   ],
   "source": [
    "summary = df.iloc[10]['summary']\n",
    "\n",
    "inputs = tokenizer(one_shot_prompt, return_tensors='pt')\n",
    "inputs = {key: value.to(model.device) for key, value in inputs.items()}  \n",
    "\n",
    "# Existing code to generate the summary\n",
    "output = tokenizer.decode(\n",
    "    model.generate(\n",
    "        inputs[\"input_ids\"],\n",
    "        max_length=847,\n",
    "        num_beams=5,\n",
    "        temperature=0.7,\n",
    "        no_repeat_ngram_size=2\n",
    "    )[0],\n",
    "    skip_special_tokens=True\n",
    ")\n",
    "\n",
    "print(dash_line)\n",
    "print(f'BASELINE HUMAN SUMMARY:\\n{summary}\\n')\n",
    "print(dash_line)\n",
    "print(f'MODEL GENERATION - ONE SHOT:\\n{output}')"
   ]
  },
  {
   "cell_type": "markdown",
   "id": "3479b8f7-0f8f-41fb-b436-52b9f6ac0943",
   "metadata": {},
   "source": [
    "# Fine-tuning with LoRA"
   ]
  },
  {
   "cell_type": "code",
   "execution_count": 7,
   "id": "e1d0f3e9-c0a8-4795-9037-3370a708f41c",
   "metadata": {
    "tags": []
   },
   "outputs": [
    {
     "name": "stdout",
     "output_type": "stream",
     "text": [
      "trainable model parameters: 2795443200\n",
      "all model parameters: 2795443200\n",
      "percentage of trainable model parameters: 100.00%\n"
     ]
    }
   ],
   "source": [
    "def number_of_trainable_model_parameters(model):\n",
    "    trainable_model_params = 0\n",
    "    all_model_params = 0\n",
    "    for _, param in model.named_parameters():\n",
    "        all_model_params += param.numel()\n",
    "        if param.requires_grad:\n",
    "            trainable_model_params += param.numel()\n",
    "    return f\"trainable model parameters: {trainable_model_params}\\nall model parameters: {all_model_params}\\npercentage of trainable model parameters: {100 * trainable_model_params / all_model_params:.2f}%\"\n",
    "\n",
    "print(number_of_trainable_model_parameters(model))"
   ]
  },
  {
   "cell_type": "code",
   "execution_count": 4,
   "id": "8c16f711-8216-4510-bbe0-85e332b30ecc",
   "metadata": {
    "tags": []
   },
   "outputs": [],
   "source": [
    "dataset = load_dataset('csv', data_files={\n",
    "    'train': 'train_dataset.csv',\n",
    "    'validation': 'validation_dataset.csv',\n",
    "    'test': 'test_dataset.csv'\n",
    "})"
   ]
  },
  {
   "cell_type": "code",
   "execution_count": 5,
   "id": "cc5cc0b1-1229-4ec4-ae05-7ca98ead1603",
   "metadata": {
    "tags": []
   },
   "outputs": [
    {
     "data": {
      "application/vnd.jupyter.widget-view+json": {
       "model_id": "1a0004cee3e14f60b1f189c0546eeb1e",
       "version_major": 2,
       "version_minor": 0
      },
      "text/plain": [
       "Map:   0%|          | 0/110 [00:00<?, ? examples/s]"
      ]
     },
     "metadata": {},
     "output_type": "display_data"
    }
   ],
   "source": [
    "# Add [PAD] as the padding token\n",
    "tokenizer.add_special_tokens({'pad_token': '[PAD]'})\n",
    "\n",
    "def tokenize_function(examples):\n",
    "    start_prompt = 'Summarize this conversation accurately:\\n\\n'\n",
    "    end_prompt = '\\n\\nSummary: '\n",
    "    prompts = [start_prompt + dialogue + end_prompt for dialogue in examples[\"dialogue\"]]\n",
    "\n",
    "    # Tokenizing the prompts and the summaries\n",
    "    tokenized_inputs = tokenizer(prompts, padding=\"max_length\", truncation=True, max_length=1024, return_tensors=\"pt\")\n",
    "    tokenized_labels = tokenizer(examples[\"summary\"], padding=\"max_length\", truncation=True, max_length=1024, return_tensors=\"pt\")\n",
    "\n",
    "    # Explicitly convert input_ids to torch.long\n",
    "    examples['input_ids'] = tokenized_inputs.input_ids.to(torch.long)\n",
    "    examples['labels'] = tokenized_labels.input_ids\n",
    "\n",
    "    return examples\n",
    "\n",
    "\n",
    "# Apply the function to the dataset\n",
    "tokenized_datasets = dataset.map(tokenize_function, batched=True)"
   ]
  },
  {
   "cell_type": "code",
   "execution_count": 6,
   "id": "d0b6ccb2-e5ad-4dca-90b8-efbbe0b3b4cb",
   "metadata": {
    "tags": []
   },
   "outputs": [
    {
     "data": {
      "text/plain": [
       "DatasetDict({\n",
       "    train: Dataset({\n",
       "        features: ['dialogue', 'summary', 'input_ids', 'labels'],\n",
       "        num_rows: 879\n",
       "    })\n",
       "    validation: Dataset({\n",
       "        features: ['dialogue', 'summary', 'input_ids', 'labels'],\n",
       "        num_rows: 110\n",
       "    })\n",
       "    test: Dataset({\n",
       "        features: ['dialogue', 'summary', 'input_ids', 'labels'],\n",
       "        num_rows: 110\n",
       "    })\n",
       "})"
      ]
     },
     "execution_count": 6,
     "metadata": {},
     "output_type": "execute_result"
    }
   ],
   "source": [
    "tokenized_datasets"
   ]
  },
  {
   "cell_type": "code",
   "execution_count": 7,
   "id": "9a7b9e35-513e-4740-9173-52fbe432f7f3",
   "metadata": {
    "tags": []
   },
   "outputs": [
    {
     "data": {
      "text/plain": [
       "DatasetDict({\n",
       "    train: Dataset({\n",
       "        features: ['input_ids', 'labels'],\n",
       "        num_rows: 879\n",
       "    })\n",
       "    validation: Dataset({\n",
       "        features: ['input_ids', 'labels'],\n",
       "        num_rows: 110\n",
       "    })\n",
       "    test: Dataset({\n",
       "        features: ['input_ids', 'labels'],\n",
       "        num_rows: 110\n",
       "    })\n",
       "})"
      ]
     },
     "execution_count": 7,
     "metadata": {},
     "output_type": "execute_result"
    }
   ],
   "source": [
    "tokenized_datasets = tokenized_datasets.remove_columns(['dialogue', 'summary'])\n",
    "tokenized_datasets"
   ]
  },
  {
   "cell_type": "code",
   "execution_count": 8,
   "id": "db127635-7f97-44a0-9fb1-4269d1f166ed",
   "metadata": {
    "tags": []
   },
   "outputs": [
    {
     "data": {
      "text/plain": [
       "'trainable model parameters: 5242880\\nall model parameters: 2800686080\\npercentage of trainable model parameters: 0.19%'"
      ]
     },
     "execution_count": 8,
     "metadata": {},
     "output_type": "execute_result"
    }
   ],
   "source": [
    "from peft import LoraConfig, get_peft_model, TaskType\n",
    "\n",
    "lora_r = 16  \n",
    "lora_alpha = 64\n",
    "lora_dropout = 0.1\n",
    "lora_target_modules = [\n",
    "    \"q_proj\",\n",
    "    \"v_proj\"\n",
    "]\n",
    "\n",
    "\n",
    "peft_config = LoraConfig(\n",
    "    r=lora_r,\n",
    "    lora_alpha=lora_alpha,\n",
    "    lora_dropout=lora_dropout,\n",
    "    target_modules=lora_target_modules,\n",
    "    bias=\"none\",\n",
    "    task_type=\"CAUSAL_LM\",\n",
    ")\n",
    "\n",
    "peft_model1 = get_peft_model(model, peft_config)\n",
    "number_of_trainable_model_parameters(peft_model1)"
   ]
  },
  {
   "cell_type": "code",
   "execution_count": 9,
   "id": "b98530f8-bc2e-4db1-b19a-731d067d8765",
   "metadata": {
    "tags": []
   },
   "outputs": [
    {
     "name": "stdout",
     "output_type": "stream",
     "text": [
      "Parameter: base_model.model.model.embed_tokens.weight, Requires Gradient: False\n",
      "Parameter: base_model.model.model.layers.0.self_attn.q_proj.base_layer.weight, Requires Gradient: False\n",
      "Parameter: base_model.model.model.layers.0.self_attn.q_proj.lora_A.default.weight, Requires Gradient: True\n",
      "Parameter: base_model.model.model.layers.0.self_attn.q_proj.lora_B.default.weight, Requires Gradient: True\n",
      "Parameter: base_model.model.model.layers.0.self_attn.k_proj.weight, Requires Gradient: False\n",
      "Parameter: base_model.model.model.layers.0.self_attn.v_proj.base_layer.weight, Requires Gradient: False\n",
      "Parameter: base_model.model.model.layers.0.self_attn.v_proj.lora_A.default.weight, Requires Gradient: True\n",
      "Parameter: base_model.model.model.layers.0.self_attn.v_proj.lora_B.default.weight, Requires Gradient: True\n",
      "Parameter: base_model.model.model.layers.0.self_attn.o_proj.weight, Requires Gradient: False\n",
      "Parameter: base_model.model.model.layers.0.mlp.gate_proj.weight, Requires Gradient: False\n",
      "Parameter: base_model.model.model.layers.0.mlp.up_proj.weight, Requires Gradient: False\n",
      "Parameter: base_model.model.model.layers.0.mlp.down_proj.weight, Requires Gradient: False\n",
      "Parameter: base_model.model.model.layers.0.input_layernorm.weight, Requires Gradient: False\n",
      "Parameter: base_model.model.model.layers.0.input_layernorm.bias, Requires Gradient: False\n",
      "Parameter: base_model.model.model.layers.0.post_attention_layernorm.weight, Requires Gradient: False\n",
      "Parameter: base_model.model.model.layers.0.post_attention_layernorm.bias, Requires Gradient: False\n",
      "Parameter: base_model.model.model.layers.1.self_attn.q_proj.base_layer.weight, Requires Gradient: False\n",
      "Parameter: base_model.model.model.layers.1.self_attn.q_proj.lora_A.default.weight, Requires Gradient: True\n",
      "Parameter: base_model.model.model.layers.1.self_attn.q_proj.lora_B.default.weight, Requires Gradient: True\n",
      "Parameter: base_model.model.model.layers.1.self_attn.k_proj.weight, Requires Gradient: False\n",
      "Parameter: base_model.model.model.layers.1.self_attn.v_proj.base_layer.weight, Requires Gradient: False\n",
      "Parameter: base_model.model.model.layers.1.self_attn.v_proj.lora_A.default.weight, Requires Gradient: True\n",
      "Parameter: base_model.model.model.layers.1.self_attn.v_proj.lora_B.default.weight, Requires Gradient: True\n",
      "Parameter: base_model.model.model.layers.1.self_attn.o_proj.weight, Requires Gradient: False\n",
      "Parameter: base_model.model.model.layers.1.mlp.gate_proj.weight, Requires Gradient: False\n",
      "Parameter: base_model.model.model.layers.1.mlp.up_proj.weight, Requires Gradient: False\n",
      "Parameter: base_model.model.model.layers.1.mlp.down_proj.weight, Requires Gradient: False\n",
      "Parameter: base_model.model.model.layers.1.input_layernorm.weight, Requires Gradient: False\n",
      "Parameter: base_model.model.model.layers.1.input_layernorm.bias, Requires Gradient: False\n",
      "Parameter: base_model.model.model.layers.1.post_attention_layernorm.weight, Requires Gradient: False\n",
      "Parameter: base_model.model.model.layers.1.post_attention_layernorm.bias, Requires Gradient: False\n",
      "Parameter: base_model.model.model.layers.2.self_attn.q_proj.base_layer.weight, Requires Gradient: False\n",
      "Parameter: base_model.model.model.layers.2.self_attn.q_proj.lora_A.default.weight, Requires Gradient: True\n",
      "Parameter: base_model.model.model.layers.2.self_attn.q_proj.lora_B.default.weight, Requires Gradient: True\n",
      "Parameter: base_model.model.model.layers.2.self_attn.k_proj.weight, Requires Gradient: False\n",
      "Parameter: base_model.model.model.layers.2.self_attn.v_proj.base_layer.weight, Requires Gradient: False\n",
      "Parameter: base_model.model.model.layers.2.self_attn.v_proj.lora_A.default.weight, Requires Gradient: True\n",
      "Parameter: base_model.model.model.layers.2.self_attn.v_proj.lora_B.default.weight, Requires Gradient: True\n",
      "Parameter: base_model.model.model.layers.2.self_attn.o_proj.weight, Requires Gradient: False\n",
      "Parameter: base_model.model.model.layers.2.mlp.gate_proj.weight, Requires Gradient: False\n",
      "Parameter: base_model.model.model.layers.2.mlp.up_proj.weight, Requires Gradient: False\n",
      "Parameter: base_model.model.model.layers.2.mlp.down_proj.weight, Requires Gradient: False\n",
      "Parameter: base_model.model.model.layers.2.input_layernorm.weight, Requires Gradient: False\n",
      "Parameter: base_model.model.model.layers.2.input_layernorm.bias, Requires Gradient: False\n",
      "Parameter: base_model.model.model.layers.2.post_attention_layernorm.weight, Requires Gradient: False\n",
      "Parameter: base_model.model.model.layers.2.post_attention_layernorm.bias, Requires Gradient: False\n",
      "Parameter: base_model.model.model.layers.3.self_attn.q_proj.base_layer.weight, Requires Gradient: False\n",
      "Parameter: base_model.model.model.layers.3.self_attn.q_proj.lora_A.default.weight, Requires Gradient: True\n",
      "Parameter: base_model.model.model.layers.3.self_attn.q_proj.lora_B.default.weight, Requires Gradient: True\n",
      "Parameter: base_model.model.model.layers.3.self_attn.k_proj.weight, Requires Gradient: False\n",
      "Parameter: base_model.model.model.layers.3.self_attn.v_proj.base_layer.weight, Requires Gradient: False\n",
      "Parameter: base_model.model.model.layers.3.self_attn.v_proj.lora_A.default.weight, Requires Gradient: True\n",
      "Parameter: base_model.model.model.layers.3.self_attn.v_proj.lora_B.default.weight, Requires Gradient: True\n",
      "Parameter: base_model.model.model.layers.3.self_attn.o_proj.weight, Requires Gradient: False\n",
      "Parameter: base_model.model.model.layers.3.mlp.gate_proj.weight, Requires Gradient: False\n",
      "Parameter: base_model.model.model.layers.3.mlp.up_proj.weight, Requires Gradient: False\n",
      "Parameter: base_model.model.model.layers.3.mlp.down_proj.weight, Requires Gradient: False\n",
      "Parameter: base_model.model.model.layers.3.input_layernorm.weight, Requires Gradient: False\n",
      "Parameter: base_model.model.model.layers.3.input_layernorm.bias, Requires Gradient: False\n",
      "Parameter: base_model.model.model.layers.3.post_attention_layernorm.weight, Requires Gradient: False\n",
      "Parameter: base_model.model.model.layers.3.post_attention_layernorm.bias, Requires Gradient: False\n",
      "Parameter: base_model.model.model.layers.4.self_attn.q_proj.base_layer.weight, Requires Gradient: False\n",
      "Parameter: base_model.model.model.layers.4.self_attn.q_proj.lora_A.default.weight, Requires Gradient: True\n",
      "Parameter: base_model.model.model.layers.4.self_attn.q_proj.lora_B.default.weight, Requires Gradient: True\n",
      "Parameter: base_model.model.model.layers.4.self_attn.k_proj.weight, Requires Gradient: False\n",
      "Parameter: base_model.model.model.layers.4.self_attn.v_proj.base_layer.weight, Requires Gradient: False\n",
      "Parameter: base_model.model.model.layers.4.self_attn.v_proj.lora_A.default.weight, Requires Gradient: True\n",
      "Parameter: base_model.model.model.layers.4.self_attn.v_proj.lora_B.default.weight, Requires Gradient: True\n",
      "Parameter: base_model.model.model.layers.4.self_attn.o_proj.weight, Requires Gradient: False\n",
      "Parameter: base_model.model.model.layers.4.mlp.gate_proj.weight, Requires Gradient: False\n",
      "Parameter: base_model.model.model.layers.4.mlp.up_proj.weight, Requires Gradient: False\n",
      "Parameter: base_model.model.model.layers.4.mlp.down_proj.weight, Requires Gradient: False\n",
      "Parameter: base_model.model.model.layers.4.input_layernorm.weight, Requires Gradient: False\n",
      "Parameter: base_model.model.model.layers.4.input_layernorm.bias, Requires Gradient: False\n",
      "Parameter: base_model.model.model.layers.4.post_attention_layernorm.weight, Requires Gradient: False\n",
      "Parameter: base_model.model.model.layers.4.post_attention_layernorm.bias, Requires Gradient: False\n",
      "Parameter: base_model.model.model.layers.5.self_attn.q_proj.base_layer.weight, Requires Gradient: False\n",
      "Parameter: base_model.model.model.layers.5.self_attn.q_proj.lora_A.default.weight, Requires Gradient: True\n",
      "Parameter: base_model.model.model.layers.5.self_attn.q_proj.lora_B.default.weight, Requires Gradient: True\n",
      "Parameter: base_model.model.model.layers.5.self_attn.k_proj.weight, Requires Gradient: False\n",
      "Parameter: base_model.model.model.layers.5.self_attn.v_proj.base_layer.weight, Requires Gradient: False\n",
      "Parameter: base_model.model.model.layers.5.self_attn.v_proj.lora_A.default.weight, Requires Gradient: True\n",
      "Parameter: base_model.model.model.layers.5.self_attn.v_proj.lora_B.default.weight, Requires Gradient: True\n",
      "Parameter: base_model.model.model.layers.5.self_attn.o_proj.weight, Requires Gradient: False\n",
      "Parameter: base_model.model.model.layers.5.mlp.gate_proj.weight, Requires Gradient: False\n",
      "Parameter: base_model.model.model.layers.5.mlp.up_proj.weight, Requires Gradient: False\n",
      "Parameter: base_model.model.model.layers.5.mlp.down_proj.weight, Requires Gradient: False\n",
      "Parameter: base_model.model.model.layers.5.input_layernorm.weight, Requires Gradient: False\n",
      "Parameter: base_model.model.model.layers.5.input_layernorm.bias, Requires Gradient: False\n",
      "Parameter: base_model.model.model.layers.5.post_attention_layernorm.weight, Requires Gradient: False\n",
      "Parameter: base_model.model.model.layers.5.post_attention_layernorm.bias, Requires Gradient: False\n",
      "Parameter: base_model.model.model.layers.6.self_attn.q_proj.base_layer.weight, Requires Gradient: False\n",
      "Parameter: base_model.model.model.layers.6.self_attn.q_proj.lora_A.default.weight, Requires Gradient: True\n",
      "Parameter: base_model.model.model.layers.6.self_attn.q_proj.lora_B.default.weight, Requires Gradient: True\n",
      "Parameter: base_model.model.model.layers.6.self_attn.k_proj.weight, Requires Gradient: False\n",
      "Parameter: base_model.model.model.layers.6.self_attn.v_proj.base_layer.weight, Requires Gradient: False\n",
      "Parameter: base_model.model.model.layers.6.self_attn.v_proj.lora_A.default.weight, Requires Gradient: True\n",
      "Parameter: base_model.model.model.layers.6.self_attn.v_proj.lora_B.default.weight, Requires Gradient: True\n",
      "Parameter: base_model.model.model.layers.6.self_attn.o_proj.weight, Requires Gradient: False\n",
      "Parameter: base_model.model.model.layers.6.mlp.gate_proj.weight, Requires Gradient: False\n",
      "Parameter: base_model.model.model.layers.6.mlp.up_proj.weight, Requires Gradient: False\n",
      "Parameter: base_model.model.model.layers.6.mlp.down_proj.weight, Requires Gradient: False\n",
      "Parameter: base_model.model.model.layers.6.input_layernorm.weight, Requires Gradient: False\n",
      "Parameter: base_model.model.model.layers.6.input_layernorm.bias, Requires Gradient: False\n",
      "Parameter: base_model.model.model.layers.6.post_attention_layernorm.weight, Requires Gradient: False\n",
      "Parameter: base_model.model.model.layers.6.post_attention_layernorm.bias, Requires Gradient: False\n",
      "Parameter: base_model.model.model.layers.7.self_attn.q_proj.base_layer.weight, Requires Gradient: False\n",
      "Parameter: base_model.model.model.layers.7.self_attn.q_proj.lora_A.default.weight, Requires Gradient: True\n",
      "Parameter: base_model.model.model.layers.7.self_attn.q_proj.lora_B.default.weight, Requires Gradient: True\n",
      "Parameter: base_model.model.model.layers.7.self_attn.k_proj.weight, Requires Gradient: False\n",
      "Parameter: base_model.model.model.layers.7.self_attn.v_proj.base_layer.weight, Requires Gradient: False\n",
      "Parameter: base_model.model.model.layers.7.self_attn.v_proj.lora_A.default.weight, Requires Gradient: True\n",
      "Parameter: base_model.model.model.layers.7.self_attn.v_proj.lora_B.default.weight, Requires Gradient: True\n",
      "Parameter: base_model.model.model.layers.7.self_attn.o_proj.weight, Requires Gradient: False\n",
      "Parameter: base_model.model.model.layers.7.mlp.gate_proj.weight, Requires Gradient: False\n",
      "Parameter: base_model.model.model.layers.7.mlp.up_proj.weight, Requires Gradient: False\n",
      "Parameter: base_model.model.model.layers.7.mlp.down_proj.weight, Requires Gradient: False\n",
      "Parameter: base_model.model.model.layers.7.input_layernorm.weight, Requires Gradient: False\n",
      "Parameter: base_model.model.model.layers.7.input_layernorm.bias, Requires Gradient: False\n",
      "Parameter: base_model.model.model.layers.7.post_attention_layernorm.weight, Requires Gradient: False\n",
      "Parameter: base_model.model.model.layers.7.post_attention_layernorm.bias, Requires Gradient: False\n",
      "Parameter: base_model.model.model.layers.8.self_attn.q_proj.base_layer.weight, Requires Gradient: False\n",
      "Parameter: base_model.model.model.layers.8.self_attn.q_proj.lora_A.default.weight, Requires Gradient: True\n",
      "Parameter: base_model.model.model.layers.8.self_attn.q_proj.lora_B.default.weight, Requires Gradient: True\n",
      "Parameter: base_model.model.model.layers.8.self_attn.k_proj.weight, Requires Gradient: False\n",
      "Parameter: base_model.model.model.layers.8.self_attn.v_proj.base_layer.weight, Requires Gradient: False\n",
      "Parameter: base_model.model.model.layers.8.self_attn.v_proj.lora_A.default.weight, Requires Gradient: True\n",
      "Parameter: base_model.model.model.layers.8.self_attn.v_proj.lora_B.default.weight, Requires Gradient: True\n",
      "Parameter: base_model.model.model.layers.8.self_attn.o_proj.weight, Requires Gradient: False\n",
      "Parameter: base_model.model.model.layers.8.mlp.gate_proj.weight, Requires Gradient: False\n",
      "Parameter: base_model.model.model.layers.8.mlp.up_proj.weight, Requires Gradient: False\n",
      "Parameter: base_model.model.model.layers.8.mlp.down_proj.weight, Requires Gradient: False\n",
      "Parameter: base_model.model.model.layers.8.input_layernorm.weight, Requires Gradient: False\n",
      "Parameter: base_model.model.model.layers.8.input_layernorm.bias, Requires Gradient: False\n",
      "Parameter: base_model.model.model.layers.8.post_attention_layernorm.weight, Requires Gradient: False\n",
      "Parameter: base_model.model.model.layers.8.post_attention_layernorm.bias, Requires Gradient: False\n",
      "Parameter: base_model.model.model.layers.9.self_attn.q_proj.base_layer.weight, Requires Gradient: False\n",
      "Parameter: base_model.model.model.layers.9.self_attn.q_proj.lora_A.default.weight, Requires Gradient: True\n",
      "Parameter: base_model.model.model.layers.9.self_attn.q_proj.lora_B.default.weight, Requires Gradient: True\n",
      "Parameter: base_model.model.model.layers.9.self_attn.k_proj.weight, Requires Gradient: False\n",
      "Parameter: base_model.model.model.layers.9.self_attn.v_proj.base_layer.weight, Requires Gradient: False\n",
      "Parameter: base_model.model.model.layers.9.self_attn.v_proj.lora_A.default.weight, Requires Gradient: True\n",
      "Parameter: base_model.model.model.layers.9.self_attn.v_proj.lora_B.default.weight, Requires Gradient: True\n",
      "Parameter: base_model.model.model.layers.9.self_attn.o_proj.weight, Requires Gradient: False\n",
      "Parameter: base_model.model.model.layers.9.mlp.gate_proj.weight, Requires Gradient: False\n",
      "Parameter: base_model.model.model.layers.9.mlp.up_proj.weight, Requires Gradient: False\n",
      "Parameter: base_model.model.model.layers.9.mlp.down_proj.weight, Requires Gradient: False\n",
      "Parameter: base_model.model.model.layers.9.input_layernorm.weight, Requires Gradient: False\n",
      "Parameter: base_model.model.model.layers.9.input_layernorm.bias, Requires Gradient: False\n",
      "Parameter: base_model.model.model.layers.9.post_attention_layernorm.weight, Requires Gradient: False\n",
      "Parameter: base_model.model.model.layers.9.post_attention_layernorm.bias, Requires Gradient: False\n",
      "Parameter: base_model.model.model.layers.10.self_attn.q_proj.base_layer.weight, Requires Gradient: False\n",
      "Parameter: base_model.model.model.layers.10.self_attn.q_proj.lora_A.default.weight, Requires Gradient: True\n",
      "Parameter: base_model.model.model.layers.10.self_attn.q_proj.lora_B.default.weight, Requires Gradient: True\n",
      "Parameter: base_model.model.model.layers.10.self_attn.k_proj.weight, Requires Gradient: False\n",
      "Parameter: base_model.model.model.layers.10.self_attn.v_proj.base_layer.weight, Requires Gradient: False\n",
      "Parameter: base_model.model.model.layers.10.self_attn.v_proj.lora_A.default.weight, Requires Gradient: True\n",
      "Parameter: base_model.model.model.layers.10.self_attn.v_proj.lora_B.default.weight, Requires Gradient: True\n",
      "Parameter: base_model.model.model.layers.10.self_attn.o_proj.weight, Requires Gradient: False\n",
      "Parameter: base_model.model.model.layers.10.mlp.gate_proj.weight, Requires Gradient: False\n",
      "Parameter: base_model.model.model.layers.10.mlp.up_proj.weight, Requires Gradient: False\n",
      "Parameter: base_model.model.model.layers.10.mlp.down_proj.weight, Requires Gradient: False\n",
      "Parameter: base_model.model.model.layers.10.input_layernorm.weight, Requires Gradient: False\n",
      "Parameter: base_model.model.model.layers.10.input_layernorm.bias, Requires Gradient: False\n",
      "Parameter: base_model.model.model.layers.10.post_attention_layernorm.weight, Requires Gradient: False\n",
      "Parameter: base_model.model.model.layers.10.post_attention_layernorm.bias, Requires Gradient: False\n",
      "Parameter: base_model.model.model.layers.11.self_attn.q_proj.base_layer.weight, Requires Gradient: False\n",
      "Parameter: base_model.model.model.layers.11.self_attn.q_proj.lora_A.default.weight, Requires Gradient: True\n",
      "Parameter: base_model.model.model.layers.11.self_attn.q_proj.lora_B.default.weight, Requires Gradient: True\n",
      "Parameter: base_model.model.model.layers.11.self_attn.k_proj.weight, Requires Gradient: False\n",
      "Parameter: base_model.model.model.layers.11.self_attn.v_proj.base_layer.weight, Requires Gradient: False\n",
      "Parameter: base_model.model.model.layers.11.self_attn.v_proj.lora_A.default.weight, Requires Gradient: True\n",
      "Parameter: base_model.model.model.layers.11.self_attn.v_proj.lora_B.default.weight, Requires Gradient: True\n",
      "Parameter: base_model.model.model.layers.11.self_attn.o_proj.weight, Requires Gradient: False\n",
      "Parameter: base_model.model.model.layers.11.mlp.gate_proj.weight, Requires Gradient: False\n",
      "Parameter: base_model.model.model.layers.11.mlp.up_proj.weight, Requires Gradient: False\n",
      "Parameter: base_model.model.model.layers.11.mlp.down_proj.weight, Requires Gradient: False\n",
      "Parameter: base_model.model.model.layers.11.input_layernorm.weight, Requires Gradient: False\n",
      "Parameter: base_model.model.model.layers.11.input_layernorm.bias, Requires Gradient: False\n",
      "Parameter: base_model.model.model.layers.11.post_attention_layernorm.weight, Requires Gradient: False\n",
      "Parameter: base_model.model.model.layers.11.post_attention_layernorm.bias, Requires Gradient: False\n",
      "Parameter: base_model.model.model.layers.12.self_attn.q_proj.base_layer.weight, Requires Gradient: False\n",
      "Parameter: base_model.model.model.layers.12.self_attn.q_proj.lora_A.default.weight, Requires Gradient: True\n",
      "Parameter: base_model.model.model.layers.12.self_attn.q_proj.lora_B.default.weight, Requires Gradient: True\n",
      "Parameter: base_model.model.model.layers.12.self_attn.k_proj.weight, Requires Gradient: False\n",
      "Parameter: base_model.model.model.layers.12.self_attn.v_proj.base_layer.weight, Requires Gradient: False\n",
      "Parameter: base_model.model.model.layers.12.self_attn.v_proj.lora_A.default.weight, Requires Gradient: True\n",
      "Parameter: base_model.model.model.layers.12.self_attn.v_proj.lora_B.default.weight, Requires Gradient: True\n",
      "Parameter: base_model.model.model.layers.12.self_attn.o_proj.weight, Requires Gradient: False\n",
      "Parameter: base_model.model.model.layers.12.mlp.gate_proj.weight, Requires Gradient: False\n",
      "Parameter: base_model.model.model.layers.12.mlp.up_proj.weight, Requires Gradient: False\n",
      "Parameter: base_model.model.model.layers.12.mlp.down_proj.weight, Requires Gradient: False\n",
      "Parameter: base_model.model.model.layers.12.input_layernorm.weight, Requires Gradient: False\n",
      "Parameter: base_model.model.model.layers.12.input_layernorm.bias, Requires Gradient: False\n",
      "Parameter: base_model.model.model.layers.12.post_attention_layernorm.weight, Requires Gradient: False\n",
      "Parameter: base_model.model.model.layers.12.post_attention_layernorm.bias, Requires Gradient: False\n",
      "Parameter: base_model.model.model.layers.13.self_attn.q_proj.base_layer.weight, Requires Gradient: False\n",
      "Parameter: base_model.model.model.layers.13.self_attn.q_proj.lora_A.default.weight, Requires Gradient: True\n",
      "Parameter: base_model.model.model.layers.13.self_attn.q_proj.lora_B.default.weight, Requires Gradient: True\n",
      "Parameter: base_model.model.model.layers.13.self_attn.k_proj.weight, Requires Gradient: False\n",
      "Parameter: base_model.model.model.layers.13.self_attn.v_proj.base_layer.weight, Requires Gradient: False\n",
      "Parameter: base_model.model.model.layers.13.self_attn.v_proj.lora_A.default.weight, Requires Gradient: True\n",
      "Parameter: base_model.model.model.layers.13.self_attn.v_proj.lora_B.default.weight, Requires Gradient: True\n",
      "Parameter: base_model.model.model.layers.13.self_attn.o_proj.weight, Requires Gradient: False\n",
      "Parameter: base_model.model.model.layers.13.mlp.gate_proj.weight, Requires Gradient: False\n",
      "Parameter: base_model.model.model.layers.13.mlp.up_proj.weight, Requires Gradient: False\n",
      "Parameter: base_model.model.model.layers.13.mlp.down_proj.weight, Requires Gradient: False\n",
      "Parameter: base_model.model.model.layers.13.input_layernorm.weight, Requires Gradient: False\n",
      "Parameter: base_model.model.model.layers.13.input_layernorm.bias, Requires Gradient: False\n",
      "Parameter: base_model.model.model.layers.13.post_attention_layernorm.weight, Requires Gradient: False\n",
      "Parameter: base_model.model.model.layers.13.post_attention_layernorm.bias, Requires Gradient: False\n",
      "Parameter: base_model.model.model.layers.14.self_attn.q_proj.base_layer.weight, Requires Gradient: False\n",
      "Parameter: base_model.model.model.layers.14.self_attn.q_proj.lora_A.default.weight, Requires Gradient: True\n",
      "Parameter: base_model.model.model.layers.14.self_attn.q_proj.lora_B.default.weight, Requires Gradient: True\n",
      "Parameter: base_model.model.model.layers.14.self_attn.k_proj.weight, Requires Gradient: False\n",
      "Parameter: base_model.model.model.layers.14.self_attn.v_proj.base_layer.weight, Requires Gradient: False\n",
      "Parameter: base_model.model.model.layers.14.self_attn.v_proj.lora_A.default.weight, Requires Gradient: True\n",
      "Parameter: base_model.model.model.layers.14.self_attn.v_proj.lora_B.default.weight, Requires Gradient: True\n",
      "Parameter: base_model.model.model.layers.14.self_attn.o_proj.weight, Requires Gradient: False\n",
      "Parameter: base_model.model.model.layers.14.mlp.gate_proj.weight, Requires Gradient: False\n",
      "Parameter: base_model.model.model.layers.14.mlp.up_proj.weight, Requires Gradient: False\n",
      "Parameter: base_model.model.model.layers.14.mlp.down_proj.weight, Requires Gradient: False\n",
      "Parameter: base_model.model.model.layers.14.input_layernorm.weight, Requires Gradient: False\n",
      "Parameter: base_model.model.model.layers.14.input_layernorm.bias, Requires Gradient: False\n",
      "Parameter: base_model.model.model.layers.14.post_attention_layernorm.weight, Requires Gradient: False\n",
      "Parameter: base_model.model.model.layers.14.post_attention_layernorm.bias, Requires Gradient: False\n",
      "Parameter: base_model.model.model.layers.15.self_attn.q_proj.base_layer.weight, Requires Gradient: False\n",
      "Parameter: base_model.model.model.layers.15.self_attn.q_proj.lora_A.default.weight, Requires Gradient: True\n",
      "Parameter: base_model.model.model.layers.15.self_attn.q_proj.lora_B.default.weight, Requires Gradient: True\n",
      "Parameter: base_model.model.model.layers.15.self_attn.k_proj.weight, Requires Gradient: False\n",
      "Parameter: base_model.model.model.layers.15.self_attn.v_proj.base_layer.weight, Requires Gradient: False\n",
      "Parameter: base_model.model.model.layers.15.self_attn.v_proj.lora_A.default.weight, Requires Gradient: True\n",
      "Parameter: base_model.model.model.layers.15.self_attn.v_proj.lora_B.default.weight, Requires Gradient: True\n",
      "Parameter: base_model.model.model.layers.15.self_attn.o_proj.weight, Requires Gradient: False\n",
      "Parameter: base_model.model.model.layers.15.mlp.gate_proj.weight, Requires Gradient: False\n",
      "Parameter: base_model.model.model.layers.15.mlp.up_proj.weight, Requires Gradient: False\n",
      "Parameter: base_model.model.model.layers.15.mlp.down_proj.weight, Requires Gradient: False\n",
      "Parameter: base_model.model.model.layers.15.input_layernorm.weight, Requires Gradient: False\n",
      "Parameter: base_model.model.model.layers.15.input_layernorm.bias, Requires Gradient: False\n",
      "Parameter: base_model.model.model.layers.15.post_attention_layernorm.weight, Requires Gradient: False\n",
      "Parameter: base_model.model.model.layers.15.post_attention_layernorm.bias, Requires Gradient: False\n",
      "Parameter: base_model.model.model.layers.16.self_attn.q_proj.base_layer.weight, Requires Gradient: False\n",
      "Parameter: base_model.model.model.layers.16.self_attn.q_proj.lora_A.default.weight, Requires Gradient: True\n",
      "Parameter: base_model.model.model.layers.16.self_attn.q_proj.lora_B.default.weight, Requires Gradient: True\n",
      "Parameter: base_model.model.model.layers.16.self_attn.k_proj.weight, Requires Gradient: False\n",
      "Parameter: base_model.model.model.layers.16.self_attn.v_proj.base_layer.weight, Requires Gradient: False\n",
      "Parameter: base_model.model.model.layers.16.self_attn.v_proj.lora_A.default.weight, Requires Gradient: True\n",
      "Parameter: base_model.model.model.layers.16.self_attn.v_proj.lora_B.default.weight, Requires Gradient: True\n",
      "Parameter: base_model.model.model.layers.16.self_attn.o_proj.weight, Requires Gradient: False\n",
      "Parameter: base_model.model.model.layers.16.mlp.gate_proj.weight, Requires Gradient: False\n",
      "Parameter: base_model.model.model.layers.16.mlp.up_proj.weight, Requires Gradient: False\n",
      "Parameter: base_model.model.model.layers.16.mlp.down_proj.weight, Requires Gradient: False\n",
      "Parameter: base_model.model.model.layers.16.input_layernorm.weight, Requires Gradient: False\n",
      "Parameter: base_model.model.model.layers.16.input_layernorm.bias, Requires Gradient: False\n",
      "Parameter: base_model.model.model.layers.16.post_attention_layernorm.weight, Requires Gradient: False\n",
      "Parameter: base_model.model.model.layers.16.post_attention_layernorm.bias, Requires Gradient: False\n",
      "Parameter: base_model.model.model.layers.17.self_attn.q_proj.base_layer.weight, Requires Gradient: False\n",
      "Parameter: base_model.model.model.layers.17.self_attn.q_proj.lora_A.default.weight, Requires Gradient: True\n",
      "Parameter: base_model.model.model.layers.17.self_attn.q_proj.lora_B.default.weight, Requires Gradient: True\n",
      "Parameter: base_model.model.model.layers.17.self_attn.k_proj.weight, Requires Gradient: False\n",
      "Parameter: base_model.model.model.layers.17.self_attn.v_proj.base_layer.weight, Requires Gradient: False\n",
      "Parameter: base_model.model.model.layers.17.self_attn.v_proj.lora_A.default.weight, Requires Gradient: True\n",
      "Parameter: base_model.model.model.layers.17.self_attn.v_proj.lora_B.default.weight, Requires Gradient: True\n",
      "Parameter: base_model.model.model.layers.17.self_attn.o_proj.weight, Requires Gradient: False\n",
      "Parameter: base_model.model.model.layers.17.mlp.gate_proj.weight, Requires Gradient: False\n",
      "Parameter: base_model.model.model.layers.17.mlp.up_proj.weight, Requires Gradient: False\n",
      "Parameter: base_model.model.model.layers.17.mlp.down_proj.weight, Requires Gradient: False\n",
      "Parameter: base_model.model.model.layers.17.input_layernorm.weight, Requires Gradient: False\n",
      "Parameter: base_model.model.model.layers.17.input_layernorm.bias, Requires Gradient: False\n",
      "Parameter: base_model.model.model.layers.17.post_attention_layernorm.weight, Requires Gradient: False\n",
      "Parameter: base_model.model.model.layers.17.post_attention_layernorm.bias, Requires Gradient: False\n",
      "Parameter: base_model.model.model.layers.18.self_attn.q_proj.base_layer.weight, Requires Gradient: False\n",
      "Parameter: base_model.model.model.layers.18.self_attn.q_proj.lora_A.default.weight, Requires Gradient: True\n",
      "Parameter: base_model.model.model.layers.18.self_attn.q_proj.lora_B.default.weight, Requires Gradient: True\n",
      "Parameter: base_model.model.model.layers.18.self_attn.k_proj.weight, Requires Gradient: False\n",
      "Parameter: base_model.model.model.layers.18.self_attn.v_proj.base_layer.weight, Requires Gradient: False\n",
      "Parameter: base_model.model.model.layers.18.self_attn.v_proj.lora_A.default.weight, Requires Gradient: True\n",
      "Parameter: base_model.model.model.layers.18.self_attn.v_proj.lora_B.default.weight, Requires Gradient: True\n",
      "Parameter: base_model.model.model.layers.18.self_attn.o_proj.weight, Requires Gradient: False\n",
      "Parameter: base_model.model.model.layers.18.mlp.gate_proj.weight, Requires Gradient: False\n",
      "Parameter: base_model.model.model.layers.18.mlp.up_proj.weight, Requires Gradient: False\n",
      "Parameter: base_model.model.model.layers.18.mlp.down_proj.weight, Requires Gradient: False\n",
      "Parameter: base_model.model.model.layers.18.input_layernorm.weight, Requires Gradient: False\n",
      "Parameter: base_model.model.model.layers.18.input_layernorm.bias, Requires Gradient: False\n",
      "Parameter: base_model.model.model.layers.18.post_attention_layernorm.weight, Requires Gradient: False\n",
      "Parameter: base_model.model.model.layers.18.post_attention_layernorm.bias, Requires Gradient: False\n",
      "Parameter: base_model.model.model.layers.19.self_attn.q_proj.base_layer.weight, Requires Gradient: False\n",
      "Parameter: base_model.model.model.layers.19.self_attn.q_proj.lora_A.default.weight, Requires Gradient: True\n",
      "Parameter: base_model.model.model.layers.19.self_attn.q_proj.lora_B.default.weight, Requires Gradient: True\n",
      "Parameter: base_model.model.model.layers.19.self_attn.k_proj.weight, Requires Gradient: False\n",
      "Parameter: base_model.model.model.layers.19.self_attn.v_proj.base_layer.weight, Requires Gradient: False\n",
      "Parameter: base_model.model.model.layers.19.self_attn.v_proj.lora_A.default.weight, Requires Gradient: True\n",
      "Parameter: base_model.model.model.layers.19.self_attn.v_proj.lora_B.default.weight, Requires Gradient: True\n",
      "Parameter: base_model.model.model.layers.19.self_attn.o_proj.weight, Requires Gradient: False\n",
      "Parameter: base_model.model.model.layers.19.mlp.gate_proj.weight, Requires Gradient: False\n",
      "Parameter: base_model.model.model.layers.19.mlp.up_proj.weight, Requires Gradient: False\n",
      "Parameter: base_model.model.model.layers.19.mlp.down_proj.weight, Requires Gradient: False\n",
      "Parameter: base_model.model.model.layers.19.input_layernorm.weight, Requires Gradient: False\n",
      "Parameter: base_model.model.model.layers.19.input_layernorm.bias, Requires Gradient: False\n",
      "Parameter: base_model.model.model.layers.19.post_attention_layernorm.weight, Requires Gradient: False\n",
      "Parameter: base_model.model.model.layers.19.post_attention_layernorm.bias, Requires Gradient: False\n",
      "Parameter: base_model.model.model.layers.20.self_attn.q_proj.base_layer.weight, Requires Gradient: False\n",
      "Parameter: base_model.model.model.layers.20.self_attn.q_proj.lora_A.default.weight, Requires Gradient: True\n",
      "Parameter: base_model.model.model.layers.20.self_attn.q_proj.lora_B.default.weight, Requires Gradient: True\n",
      "Parameter: base_model.model.model.layers.20.self_attn.k_proj.weight, Requires Gradient: False\n",
      "Parameter: base_model.model.model.layers.20.self_attn.v_proj.base_layer.weight, Requires Gradient: False\n",
      "Parameter: base_model.model.model.layers.20.self_attn.v_proj.lora_A.default.weight, Requires Gradient: True\n",
      "Parameter: base_model.model.model.layers.20.self_attn.v_proj.lora_B.default.weight, Requires Gradient: True\n",
      "Parameter: base_model.model.model.layers.20.self_attn.o_proj.weight, Requires Gradient: False\n",
      "Parameter: base_model.model.model.layers.20.mlp.gate_proj.weight, Requires Gradient: False\n",
      "Parameter: base_model.model.model.layers.20.mlp.up_proj.weight, Requires Gradient: False\n",
      "Parameter: base_model.model.model.layers.20.mlp.down_proj.weight, Requires Gradient: False\n",
      "Parameter: base_model.model.model.layers.20.input_layernorm.weight, Requires Gradient: False\n",
      "Parameter: base_model.model.model.layers.20.input_layernorm.bias, Requires Gradient: False\n",
      "Parameter: base_model.model.model.layers.20.post_attention_layernorm.weight, Requires Gradient: False\n",
      "Parameter: base_model.model.model.layers.20.post_attention_layernorm.bias, Requires Gradient: False\n",
      "Parameter: base_model.model.model.layers.21.self_attn.q_proj.base_layer.weight, Requires Gradient: False\n",
      "Parameter: base_model.model.model.layers.21.self_attn.q_proj.lora_A.default.weight, Requires Gradient: True\n",
      "Parameter: base_model.model.model.layers.21.self_attn.q_proj.lora_B.default.weight, Requires Gradient: True\n",
      "Parameter: base_model.model.model.layers.21.self_attn.k_proj.weight, Requires Gradient: False\n",
      "Parameter: base_model.model.model.layers.21.self_attn.v_proj.base_layer.weight, Requires Gradient: False\n",
      "Parameter: base_model.model.model.layers.21.self_attn.v_proj.lora_A.default.weight, Requires Gradient: True\n",
      "Parameter: base_model.model.model.layers.21.self_attn.v_proj.lora_B.default.weight, Requires Gradient: True\n",
      "Parameter: base_model.model.model.layers.21.self_attn.o_proj.weight, Requires Gradient: False\n",
      "Parameter: base_model.model.model.layers.21.mlp.gate_proj.weight, Requires Gradient: False\n",
      "Parameter: base_model.model.model.layers.21.mlp.up_proj.weight, Requires Gradient: False\n",
      "Parameter: base_model.model.model.layers.21.mlp.down_proj.weight, Requires Gradient: False\n",
      "Parameter: base_model.model.model.layers.21.input_layernorm.weight, Requires Gradient: False\n",
      "Parameter: base_model.model.model.layers.21.input_layernorm.bias, Requires Gradient: False\n",
      "Parameter: base_model.model.model.layers.21.post_attention_layernorm.weight, Requires Gradient: False\n",
      "Parameter: base_model.model.model.layers.21.post_attention_layernorm.bias, Requires Gradient: False\n",
      "Parameter: base_model.model.model.layers.22.self_attn.q_proj.base_layer.weight, Requires Gradient: False\n",
      "Parameter: base_model.model.model.layers.22.self_attn.q_proj.lora_A.default.weight, Requires Gradient: True\n",
      "Parameter: base_model.model.model.layers.22.self_attn.q_proj.lora_B.default.weight, Requires Gradient: True\n",
      "Parameter: base_model.model.model.layers.22.self_attn.k_proj.weight, Requires Gradient: False\n",
      "Parameter: base_model.model.model.layers.22.self_attn.v_proj.base_layer.weight, Requires Gradient: False\n",
      "Parameter: base_model.model.model.layers.22.self_attn.v_proj.lora_A.default.weight, Requires Gradient: True\n",
      "Parameter: base_model.model.model.layers.22.self_attn.v_proj.lora_B.default.weight, Requires Gradient: True\n",
      "Parameter: base_model.model.model.layers.22.self_attn.o_proj.weight, Requires Gradient: False\n",
      "Parameter: base_model.model.model.layers.22.mlp.gate_proj.weight, Requires Gradient: False\n",
      "Parameter: base_model.model.model.layers.22.mlp.up_proj.weight, Requires Gradient: False\n",
      "Parameter: base_model.model.model.layers.22.mlp.down_proj.weight, Requires Gradient: False\n",
      "Parameter: base_model.model.model.layers.22.input_layernorm.weight, Requires Gradient: False\n",
      "Parameter: base_model.model.model.layers.22.input_layernorm.bias, Requires Gradient: False\n",
      "Parameter: base_model.model.model.layers.22.post_attention_layernorm.weight, Requires Gradient: False\n",
      "Parameter: base_model.model.model.layers.22.post_attention_layernorm.bias, Requires Gradient: False\n",
      "Parameter: base_model.model.model.layers.23.self_attn.q_proj.base_layer.weight, Requires Gradient: False\n",
      "Parameter: base_model.model.model.layers.23.self_attn.q_proj.lora_A.default.weight, Requires Gradient: True\n",
      "Parameter: base_model.model.model.layers.23.self_attn.q_proj.lora_B.default.weight, Requires Gradient: True\n",
      "Parameter: base_model.model.model.layers.23.self_attn.k_proj.weight, Requires Gradient: False\n",
      "Parameter: base_model.model.model.layers.23.self_attn.v_proj.base_layer.weight, Requires Gradient: False\n",
      "Parameter: base_model.model.model.layers.23.self_attn.v_proj.lora_A.default.weight, Requires Gradient: True\n",
      "Parameter: base_model.model.model.layers.23.self_attn.v_proj.lora_B.default.weight, Requires Gradient: True\n",
      "Parameter: base_model.model.model.layers.23.self_attn.o_proj.weight, Requires Gradient: False\n",
      "Parameter: base_model.model.model.layers.23.mlp.gate_proj.weight, Requires Gradient: False\n",
      "Parameter: base_model.model.model.layers.23.mlp.up_proj.weight, Requires Gradient: False\n",
      "Parameter: base_model.model.model.layers.23.mlp.down_proj.weight, Requires Gradient: False\n",
      "Parameter: base_model.model.model.layers.23.input_layernorm.weight, Requires Gradient: False\n",
      "Parameter: base_model.model.model.layers.23.input_layernorm.bias, Requires Gradient: False\n",
      "Parameter: base_model.model.model.layers.23.post_attention_layernorm.weight, Requires Gradient: False\n",
      "Parameter: base_model.model.model.layers.23.post_attention_layernorm.bias, Requires Gradient: False\n",
      "Parameter: base_model.model.model.layers.24.self_attn.q_proj.base_layer.weight, Requires Gradient: False\n",
      "Parameter: base_model.model.model.layers.24.self_attn.q_proj.lora_A.default.weight, Requires Gradient: True\n",
      "Parameter: base_model.model.model.layers.24.self_attn.q_proj.lora_B.default.weight, Requires Gradient: True\n",
      "Parameter: base_model.model.model.layers.24.self_attn.k_proj.weight, Requires Gradient: False\n",
      "Parameter: base_model.model.model.layers.24.self_attn.v_proj.base_layer.weight, Requires Gradient: False\n",
      "Parameter: base_model.model.model.layers.24.self_attn.v_proj.lora_A.default.weight, Requires Gradient: True\n",
      "Parameter: base_model.model.model.layers.24.self_attn.v_proj.lora_B.default.weight, Requires Gradient: True\n",
      "Parameter: base_model.model.model.layers.24.self_attn.o_proj.weight, Requires Gradient: False\n",
      "Parameter: base_model.model.model.layers.24.mlp.gate_proj.weight, Requires Gradient: False\n",
      "Parameter: base_model.model.model.layers.24.mlp.up_proj.weight, Requires Gradient: False\n",
      "Parameter: base_model.model.model.layers.24.mlp.down_proj.weight, Requires Gradient: False\n",
      "Parameter: base_model.model.model.layers.24.input_layernorm.weight, Requires Gradient: False\n",
      "Parameter: base_model.model.model.layers.24.input_layernorm.bias, Requires Gradient: False\n",
      "Parameter: base_model.model.model.layers.24.post_attention_layernorm.weight, Requires Gradient: False\n",
      "Parameter: base_model.model.model.layers.24.post_attention_layernorm.bias, Requires Gradient: False\n",
      "Parameter: base_model.model.model.layers.25.self_attn.q_proj.base_layer.weight, Requires Gradient: False\n",
      "Parameter: base_model.model.model.layers.25.self_attn.q_proj.lora_A.default.weight, Requires Gradient: True\n",
      "Parameter: base_model.model.model.layers.25.self_attn.q_proj.lora_B.default.weight, Requires Gradient: True\n",
      "Parameter: base_model.model.model.layers.25.self_attn.k_proj.weight, Requires Gradient: False\n",
      "Parameter: base_model.model.model.layers.25.self_attn.v_proj.base_layer.weight, Requires Gradient: False\n",
      "Parameter: base_model.model.model.layers.25.self_attn.v_proj.lora_A.default.weight, Requires Gradient: True\n",
      "Parameter: base_model.model.model.layers.25.self_attn.v_proj.lora_B.default.weight, Requires Gradient: True\n",
      "Parameter: base_model.model.model.layers.25.self_attn.o_proj.weight, Requires Gradient: False\n",
      "Parameter: base_model.model.model.layers.25.mlp.gate_proj.weight, Requires Gradient: False\n",
      "Parameter: base_model.model.model.layers.25.mlp.up_proj.weight, Requires Gradient: False\n",
      "Parameter: base_model.model.model.layers.25.mlp.down_proj.weight, Requires Gradient: False\n",
      "Parameter: base_model.model.model.layers.25.input_layernorm.weight, Requires Gradient: False\n",
      "Parameter: base_model.model.model.layers.25.input_layernorm.bias, Requires Gradient: False\n",
      "Parameter: base_model.model.model.layers.25.post_attention_layernorm.weight, Requires Gradient: False\n",
      "Parameter: base_model.model.model.layers.25.post_attention_layernorm.bias, Requires Gradient: False\n",
      "Parameter: base_model.model.model.layers.26.self_attn.q_proj.base_layer.weight, Requires Gradient: False\n",
      "Parameter: base_model.model.model.layers.26.self_attn.q_proj.lora_A.default.weight, Requires Gradient: True\n",
      "Parameter: base_model.model.model.layers.26.self_attn.q_proj.lora_B.default.weight, Requires Gradient: True\n",
      "Parameter: base_model.model.model.layers.26.self_attn.k_proj.weight, Requires Gradient: False\n",
      "Parameter: base_model.model.model.layers.26.self_attn.v_proj.base_layer.weight, Requires Gradient: False\n",
      "Parameter: base_model.model.model.layers.26.self_attn.v_proj.lora_A.default.weight, Requires Gradient: True\n",
      "Parameter: base_model.model.model.layers.26.self_attn.v_proj.lora_B.default.weight, Requires Gradient: True\n",
      "Parameter: base_model.model.model.layers.26.self_attn.o_proj.weight, Requires Gradient: False\n",
      "Parameter: base_model.model.model.layers.26.mlp.gate_proj.weight, Requires Gradient: False\n",
      "Parameter: base_model.model.model.layers.26.mlp.up_proj.weight, Requires Gradient: False\n",
      "Parameter: base_model.model.model.layers.26.mlp.down_proj.weight, Requires Gradient: False\n",
      "Parameter: base_model.model.model.layers.26.input_layernorm.weight, Requires Gradient: False\n",
      "Parameter: base_model.model.model.layers.26.input_layernorm.bias, Requires Gradient: False\n",
      "Parameter: base_model.model.model.layers.26.post_attention_layernorm.weight, Requires Gradient: False\n",
      "Parameter: base_model.model.model.layers.26.post_attention_layernorm.bias, Requires Gradient: False\n",
      "Parameter: base_model.model.model.layers.27.self_attn.q_proj.base_layer.weight, Requires Gradient: False\n",
      "Parameter: base_model.model.model.layers.27.self_attn.q_proj.lora_A.default.weight, Requires Gradient: True\n",
      "Parameter: base_model.model.model.layers.27.self_attn.q_proj.lora_B.default.weight, Requires Gradient: True\n",
      "Parameter: base_model.model.model.layers.27.self_attn.k_proj.weight, Requires Gradient: False\n",
      "Parameter: base_model.model.model.layers.27.self_attn.v_proj.base_layer.weight, Requires Gradient: False\n",
      "Parameter: base_model.model.model.layers.27.self_attn.v_proj.lora_A.default.weight, Requires Gradient: True\n",
      "Parameter: base_model.model.model.layers.27.self_attn.v_proj.lora_B.default.weight, Requires Gradient: True\n",
      "Parameter: base_model.model.model.layers.27.self_attn.o_proj.weight, Requires Gradient: False\n",
      "Parameter: base_model.model.model.layers.27.mlp.gate_proj.weight, Requires Gradient: False\n",
      "Parameter: base_model.model.model.layers.27.mlp.up_proj.weight, Requires Gradient: False\n",
      "Parameter: base_model.model.model.layers.27.mlp.down_proj.weight, Requires Gradient: False\n",
      "Parameter: base_model.model.model.layers.27.input_layernorm.weight, Requires Gradient: False\n",
      "Parameter: base_model.model.model.layers.27.input_layernorm.bias, Requires Gradient: False\n",
      "Parameter: base_model.model.model.layers.27.post_attention_layernorm.weight, Requires Gradient: False\n",
      "Parameter: base_model.model.model.layers.27.post_attention_layernorm.bias, Requires Gradient: False\n",
      "Parameter: base_model.model.model.layers.28.self_attn.q_proj.base_layer.weight, Requires Gradient: False\n",
      "Parameter: base_model.model.model.layers.28.self_attn.q_proj.lora_A.default.weight, Requires Gradient: True\n",
      "Parameter: base_model.model.model.layers.28.self_attn.q_proj.lora_B.default.weight, Requires Gradient: True\n",
      "Parameter: base_model.model.model.layers.28.self_attn.k_proj.weight, Requires Gradient: False\n",
      "Parameter: base_model.model.model.layers.28.self_attn.v_proj.base_layer.weight, Requires Gradient: False\n",
      "Parameter: base_model.model.model.layers.28.self_attn.v_proj.lora_A.default.weight, Requires Gradient: True\n",
      "Parameter: base_model.model.model.layers.28.self_attn.v_proj.lora_B.default.weight, Requires Gradient: True\n",
      "Parameter: base_model.model.model.layers.28.self_attn.o_proj.weight, Requires Gradient: False\n",
      "Parameter: base_model.model.model.layers.28.mlp.gate_proj.weight, Requires Gradient: False\n",
      "Parameter: base_model.model.model.layers.28.mlp.up_proj.weight, Requires Gradient: False\n",
      "Parameter: base_model.model.model.layers.28.mlp.down_proj.weight, Requires Gradient: False\n",
      "Parameter: base_model.model.model.layers.28.input_layernorm.weight, Requires Gradient: False\n",
      "Parameter: base_model.model.model.layers.28.input_layernorm.bias, Requires Gradient: False\n",
      "Parameter: base_model.model.model.layers.28.post_attention_layernorm.weight, Requires Gradient: False\n",
      "Parameter: base_model.model.model.layers.28.post_attention_layernorm.bias, Requires Gradient: False\n",
      "Parameter: base_model.model.model.layers.29.self_attn.q_proj.base_layer.weight, Requires Gradient: False\n",
      "Parameter: base_model.model.model.layers.29.self_attn.q_proj.lora_A.default.weight, Requires Gradient: True\n",
      "Parameter: base_model.model.model.layers.29.self_attn.q_proj.lora_B.default.weight, Requires Gradient: True\n",
      "Parameter: base_model.model.model.layers.29.self_attn.k_proj.weight, Requires Gradient: False\n",
      "Parameter: base_model.model.model.layers.29.self_attn.v_proj.base_layer.weight, Requires Gradient: False\n",
      "Parameter: base_model.model.model.layers.29.self_attn.v_proj.lora_A.default.weight, Requires Gradient: True\n",
      "Parameter: base_model.model.model.layers.29.self_attn.v_proj.lora_B.default.weight, Requires Gradient: True\n",
      "Parameter: base_model.model.model.layers.29.self_attn.o_proj.weight, Requires Gradient: False\n",
      "Parameter: base_model.model.model.layers.29.mlp.gate_proj.weight, Requires Gradient: False\n",
      "Parameter: base_model.model.model.layers.29.mlp.up_proj.weight, Requires Gradient: False\n",
      "Parameter: base_model.model.model.layers.29.mlp.down_proj.weight, Requires Gradient: False\n",
      "Parameter: base_model.model.model.layers.29.input_layernorm.weight, Requires Gradient: False\n",
      "Parameter: base_model.model.model.layers.29.input_layernorm.bias, Requires Gradient: False\n",
      "Parameter: base_model.model.model.layers.29.post_attention_layernorm.weight, Requires Gradient: False\n",
      "Parameter: base_model.model.model.layers.29.post_attention_layernorm.bias, Requires Gradient: False\n",
      "Parameter: base_model.model.model.layers.30.self_attn.q_proj.base_layer.weight, Requires Gradient: False\n",
      "Parameter: base_model.model.model.layers.30.self_attn.q_proj.lora_A.default.weight, Requires Gradient: True\n",
      "Parameter: base_model.model.model.layers.30.self_attn.q_proj.lora_B.default.weight, Requires Gradient: True\n",
      "Parameter: base_model.model.model.layers.30.self_attn.k_proj.weight, Requires Gradient: False\n",
      "Parameter: base_model.model.model.layers.30.self_attn.v_proj.base_layer.weight, Requires Gradient: False\n",
      "Parameter: base_model.model.model.layers.30.self_attn.v_proj.lora_A.default.weight, Requires Gradient: True\n",
      "Parameter: base_model.model.model.layers.30.self_attn.v_proj.lora_B.default.weight, Requires Gradient: True\n",
      "Parameter: base_model.model.model.layers.30.self_attn.o_proj.weight, Requires Gradient: False\n",
      "Parameter: base_model.model.model.layers.30.mlp.gate_proj.weight, Requires Gradient: False\n",
      "Parameter: base_model.model.model.layers.30.mlp.up_proj.weight, Requires Gradient: False\n",
      "Parameter: base_model.model.model.layers.30.mlp.down_proj.weight, Requires Gradient: False\n",
      "Parameter: base_model.model.model.layers.30.input_layernorm.weight, Requires Gradient: False\n",
      "Parameter: base_model.model.model.layers.30.input_layernorm.bias, Requires Gradient: False\n",
      "Parameter: base_model.model.model.layers.30.post_attention_layernorm.weight, Requires Gradient: False\n",
      "Parameter: base_model.model.model.layers.30.post_attention_layernorm.bias, Requires Gradient: False\n",
      "Parameter: base_model.model.model.layers.31.self_attn.q_proj.base_layer.weight, Requires Gradient: False\n",
      "Parameter: base_model.model.model.layers.31.self_attn.q_proj.lora_A.default.weight, Requires Gradient: True\n",
      "Parameter: base_model.model.model.layers.31.self_attn.q_proj.lora_B.default.weight, Requires Gradient: True\n",
      "Parameter: base_model.model.model.layers.31.self_attn.k_proj.weight, Requires Gradient: False\n",
      "Parameter: base_model.model.model.layers.31.self_attn.v_proj.base_layer.weight, Requires Gradient: False\n",
      "Parameter: base_model.model.model.layers.31.self_attn.v_proj.lora_A.default.weight, Requires Gradient: True\n",
      "Parameter: base_model.model.model.layers.31.self_attn.v_proj.lora_B.default.weight, Requires Gradient: True\n",
      "Parameter: base_model.model.model.layers.31.self_attn.o_proj.weight, Requires Gradient: False\n",
      "Parameter: base_model.model.model.layers.31.mlp.gate_proj.weight, Requires Gradient: False\n",
      "Parameter: base_model.model.model.layers.31.mlp.up_proj.weight, Requires Gradient: False\n",
      "Parameter: base_model.model.model.layers.31.mlp.down_proj.weight, Requires Gradient: False\n",
      "Parameter: base_model.model.model.layers.31.input_layernorm.weight, Requires Gradient: False\n",
      "Parameter: base_model.model.model.layers.31.input_layernorm.bias, Requires Gradient: False\n",
      "Parameter: base_model.model.model.layers.31.post_attention_layernorm.weight, Requires Gradient: False\n",
      "Parameter: base_model.model.model.layers.31.post_attention_layernorm.bias, Requires Gradient: False\n",
      "Parameter: base_model.model.model.norm.weight, Requires Gradient: False\n",
      "Parameter: base_model.model.model.norm.bias, Requires Gradient: False\n",
      "Parameter: base_model.model.lm_head.weight, Requires Gradient: False\n"
     ]
    }
   ],
   "source": [
    "for name, param in peft_model1.named_parameters():\n",
    "    print(f\"Parameter: {name}, Requires Gradient: {param.requires_grad}\")\n"
   ]
  },
  {
   "cell_type": "code",
   "execution_count": 53,
   "id": "4d12b8db-1b44-41bf-a8a2-9e53fe50cf4a",
   "metadata": {
    "tags": []
   },
   "outputs": [
    {
     "data": {
      "text/plain": [
       "'trainable model parameters: 10485760\\nall model parameters: 2805928960\\npercentage of trainable model parameters: 0.37%'"
      ]
     },
     "execution_count": 53,
     "metadata": {},
     "output_type": "execute_result"
    }
   ],
   "source": [
    "from peft import LoraConfig, get_peft_model, TaskType\n",
    "\n",
    "lora_r = 32  \n",
    "lora_alpha = 64\n",
    "lora_dropout = 0.1\n",
    "lora_target_modules = [\n",
    "    \"q_proj\",\n",
    "    \"v_proj\"\n",
    "]\n",
    "\n",
    "\n",
    "peft_config = LoraConfig(\n",
    "    r=lora_r,\n",
    "    lora_alpha=lora_alpha,\n",
    "    lora_dropout=lora_dropout,\n",
    "    target_modules=lora_target_modules,\n",
    "    bias=\"none\",\n",
    "    task_type=\"CAUSAL_LM\",\n",
    ")\n",
    "\n",
    "peft_model2 = get_peft_model(model, peft_config)\n",
    "number_of_trainable_model_parameters(peft_model2)"
   ]
  },
  {
   "cell_type": "code",
   "execution_count": 79,
   "id": "882e0529-4007-4a07-8f71-67ce35d19a6f",
   "metadata": {
    "tags": []
   },
   "outputs": [],
   "source": [
    "peft_training_args = TrainingArguments(\n",
    "    output_dir='./results_model1',\n",
    "    # num_train_epochs=2,\n",
    "    per_device_train_batch_size=1,\n",
    "    per_device_eval_batch_size=1,\n",
    "    warmup_steps=2,\n",
    "    max_steps=6,\n",
    "    weight_decay=0.01,\n",
    "    logging_dir='./logs',\n",
    ")\n",
    "\n",
    "\n",
    "peft_trainer1 = Trainer(\n",
    "    model=peft_model1,\n",
    "    args=peft_training_args,\n",
    "    train_dataset=tokenized_datasets[\"train\"],\n",
    "    eval_dataset=tokenized_datasets[\"validation\"]\n",
    ")\n"
   ]
  },
  {
   "cell_type": "code",
   "execution_count": 9,
   "id": "ca2c5708-0a7a-4766-90c7-bf2ec0ed8eb9",
   "metadata": {
    "tags": []
   },
   "outputs": [
    {
     "name": "stderr",
     "output_type": "stream",
     "text": [
      "/root/miniconda3/envs/whisper_asr/lib/python3.10/site-packages/bitsandbytes/autograd/_functions.py:322: UserWarning: MatMul8bitLt: inputs will be cast from torch.float32 to float16 during quantization\n",
      "  warnings.warn(f\"MatMul8bitLt: inputs will be cast from {A.dtype} to float16 during quantization\")\n"
     ]
    },
    {
     "data": {
      "text/html": [
       "\n",
       "    <div>\n",
       "      \n",
       "      <progress value='7' max='7' style='width:300px; height:20px; vertical-align: middle;'></progress>\n",
       "      [7/7 00:07, Epoch 0/1]\n",
       "    </div>\n",
       "    <table border=\"1\" class=\"dataframe\">\n",
       "  <thead>\n",
       " <tr style=\"text-align: left;\">\n",
       "      <th>Step</th>\n",
       "      <th>Training Loss</th>\n",
       "    </tr>\n",
       "  </thead>\n",
       "  <tbody>\n",
       "    <tr>\n",
       "      <td>1</td>\n",
       "      <td>2.530700</td>\n",
       "    </tr>\n",
       "    <tr>\n",
       "      <td>2</td>\n",
       "      <td>2.582400</td>\n",
       "    </tr>\n",
       "    <tr>\n",
       "      <td>3</td>\n",
       "      <td>2.554000</td>\n",
       "    </tr>\n",
       "    <tr>\n",
       "      <td>4</td>\n",
       "      <td>2.645100</td>\n",
       "    </tr>\n",
       "    <tr>\n",
       "      <td>5</td>\n",
       "      <td>2.685200</td>\n",
       "    </tr>\n",
       "    <tr>\n",
       "      <td>6</td>\n",
       "      <td>2.300100</td>\n",
       "    </tr>\n",
       "    <tr>\n",
       "      <td>7</td>\n",
       "      <td>2.255700</td>\n",
       "    </tr>\n",
       "  </tbody>\n",
       "</table><p>"
      ],
      "text/plain": [
       "<IPython.core.display.HTML object>"
      ]
     },
     "metadata": {},
     "output_type": "display_data"
    },
    {
     "data": {
      "text/plain": [
       "TrainOutput(global_step=7, training_loss=2.5076094695499966, metrics={'train_runtime': 9.783, 'train_samples_per_second': 1.431, 'train_steps_per_second': 0.716, 'total_flos': 229826824765440.0, 'train_loss': 2.5076094695499966, 'epoch': 0.02})"
      ]
     },
     "execution_count": 9,
     "metadata": {},
     "output_type": "execute_result"
    }
   ],
   "source": [
    "peft_trainer1.train()"
   ]
  },
  {
   "cell_type": "code",
   "execution_count": 11,
   "id": "4d2f8d69-a5dd-4463-8c7a-4d4585929d92",
   "metadata": {
    "tags": []
   },
   "outputs": [
    {
     "data": {
      "image/png": "[encoded data removed]",
      "text/plain": [
       "<Figure size 640x480 with 1 Axes>"
      ]
     },
     "metadata": {},
     "output_type": "display_data"
    }
   ],
   "source": [
    "import matplotlib.pyplot as plt\n",
    "\n",
    "# Training loss data\n",
    "step = [1, 2, 3, 4, 5, 6, 7]\n",
    "training_loss = [2.530700, 2.582400, 2.554000, 2.645100, 2.685200, 2.300100, 2.255700]\n",
    "\n",
    "# Plot the training loss\n",
    "plt.plot(step, training_loss, marker='o', linestyle='-', color='b')\n",
    "plt.title('Training Loss Over Steps')\n",
    "plt.xlabel('Step')\n",
    "plt.ylabel('Training Loss')\n",
    "plt.grid(True)\n",
    "plt.show()"
   ]
  },
  {
   "cell_type": "code",
   "execution_count": 81,
   "id": "2da62ddd-23ba-43f5-9230-7e3c835df818",
   "metadata": {
    "tags": []
   },
   "outputs": [],
   "source": [
    "peft_training_args = TrainingArguments(\n",
    "    output_dir='./results_model2',\n",
    "    # num_train_epochs=2,\n",
    "    per_device_train_batch_size=1,\n",
    "    per_device_eval_batch_size=1,\n",
    "    warmup_steps=2,\n",
    "    max_steps=6,\n",
    "    weight_decay=0.01,\n",
    "    logging_dir='./logs2',\n",
    ")\n",
    "\n",
    "\n",
    "peft_trainer2 = Trainer(\n",
    "    model=peft_model2,\n",
    "    args=peft_training_args,\n",
    "    train_dataset=tokenized_datasets[\"train\"],\n",
    "    eval_dataset=tokenized_datasets[\"validation\"]\n",
    ")\n"
   ]
  },
  {
   "cell_type": "code",
   "execution_count": null,
   "id": "32d19fca-da2f-4721-b1e9-9a50e6c7e9e4",
   "metadata": {},
   "outputs": [],
   "source": [
    "peft_trainer2.train()"
   ]
  },
  {
   "cell_type": "code",
   "execution_count": 10,
   "id": "7d3e094f-54dd-4a67-9efb-78425ac80e8d",
   "metadata": {
    "tags": []
   },
   "outputs": [
    {
     "data": {
      "image/png": "[encoded data removed]",
      "text/plain": [
       "<Figure size 640x480 with 1 Axes>"
      ]
     },
     "metadata": {},
     "output_type": "display_data"
    }
   ],
   "source": [
    "import matplotlib.pyplot as plt\n",
    "\n",
    "# Training loss data\n",
    "step = [1, 2, 3, 4, 5, 6, 7]\n",
    "training_loss = [2.638600, 2.430200, 2.581400, 2.439700, 2.090300, 2.860400, 2.360800]\n",
    "\n",
    "# Plot the training loss\n",
    "plt.plot(step, training_loss, marker='o', linestyle='-', color='b')\n",
    "plt.title('Training Loss Over Steps')\n",
    "plt.xlabel('Step')\n",
    "plt.ylabel('Training Loss')\n",
    "plt.grid(True)\n",
    "plt.show()"
   ]
  },
  {
   "cell_type": "markdown",
   "id": "ba4addeb-3e46-4aa6-922d-c116a60ad9ee",
   "metadata": {},
   "source": [
    "# Results"
   ]
  },
  {
   "cell_type": "code",
   "execution_count": 116,
   "id": "3863912c-f418-44c5-9210-c6b022613aa3",
   "metadata": {
    "tags": []
   },
   "outputs": [
    {
     "name": "stderr",
     "output_type": "stream",
     "text": [
      "/root/miniconda3/envs/whisper_asr/lib/python3.10/site-packages/transformers/models/auto/tokenization_auto.py:703: FutureWarning: The `use_auth_token` argument is deprecated and will be removed in v5 of Transformers. Please use `token` instead.\n",
      "  warnings.warn(\n",
      "Special tokens have been added in the vocabulary, make sure the associated word embeddings are fine-tuned or trained.\n",
      "/root/miniconda3/envs/whisper_asr/lib/python3.10/site-packages/transformers/models/auto/auto_factory.py:472: FutureWarning: The `use_auth_token` argument is deprecated and will be removed in v5 of Transformers. Please use `token` instead.\n",
      "  warnings.warn(\n"
     ]
    }
   ],
   "source": [
    "tokenizer = AutoTokenizer.from_pretrained(\"stabilityai/stablelm-3b-4e1t\", use_auth_token=True)\n",
    "model = AutoModelForCausalLM.from_pretrained(\"stabilityai/stablelm-3b-4e1t\", torch_dtype=torch.bfloat16,use_auth_token=True, trust_remote_code=True)"
   ]
  },
  {
   "cell_type": "code",
   "execution_count": null,
   "id": "94654c71-f1aa-4143-a354-b1608f6d7db1",
   "metadata": {},
   "outputs": [],
   "source": [
    "model.to(\"cuda:0\")\n",
    "model.eval()"
   ]
  },
  {
   "cell_type": "code",
   "execution_count": null,
   "id": "c79d33cc-90fd-4fb8-86fd-73c1d03d11c0",
   "metadata": {},
   "outputs": [],
   "source": [
    "from peft import LoraConfig, get_peft_model, TaskType\n",
    "\n",
    "lora_r = 16  \n",
    "lora_alpha = 64\n",
    "lora_dropout = 0.1\n",
    "lora_target_modules = [\n",
    "    \"q_proj\",\n",
    "    \"v_proj\"\n",
    "]\n",
    "\n",
    "\n",
    "peft_config = LoraConfig(\n",
    "    r=lora_r,\n",
    "    lora_alpha=lora_alpha,\n",
    "    lora_dropout=lora_dropout,\n",
    "    target_modules=lora_target_modules,\n",
    "    bias=\"none\",\n",
    "    task_type=\"CAUSAL_LM\",\n",
    ")\n",
    "\n",
    "peft_model1 = get_peft_model(model, peft_config)\n",
    "number_of_trainable_model_parameters(peft_model1)"
   ]
  },
  {
   "cell_type": "code",
   "execution_count": null,
   "id": "ed84eac0-115f-4648-a3bb-8651c488bef5",
   "metadata": {},
   "outputs": [],
   "source": [
    "peft_model1 = PeftModel.from_pretrained(peft_model1, \n",
    "                                       './results_model1/', \n",
    "                                       torch_dtype=torch.bfloat16,\n",
    "                                       is_trainable=False)"
   ]
  },
  {
   "cell_type": "code",
   "execution_count": null,
   "id": "14e1da0e-dc17-4550-8037-69e74998149e",
   "metadata": {},
   "outputs": [],
   "source": [
    "peft_model2 = PeftModel.from_pretrained(peft_model2, \n",
    "                                       './results_model2/', \n",
    "                                       torch_dtype=torch.bfloat16,\n",
    "                                       is_trainable=False)"
   ]
  },
  {
   "cell_type": "code",
   "execution_count": null,
   "id": "0bef5c70-d941-4abe-9523-d52e6723743c",
   "metadata": {},
   "outputs": [],
   "source": [
    "peft_model1.to(\"cuda:0\")\n",
    "peft_model1.eval()\n",
    "peft_model2.to(\"cuda:0\")\n",
    "peft_model2.eval()\n",
    "print(\"peft_model loaded\")"
   ]
  },
  {
   "cell_type": "code",
   "execution_count": null,
   "id": "019b5c2e-125d-4960-a584-3266c523de31",
   "metadata": {},
   "outputs": [],
   "source": [
    "dialogues = dataset['test'][0:100]['dialogue']\n",
    "human_baseline_summaries = dataset['test'][0:100]['summary']"
   ]
  },
  {
   "cell_type": "code",
   "execution_count": 113,
   "id": "6b7f795d-bac1-42f2-b971-89abc16ca93e",
   "metadata": {
    "tags": []
   },
   "outputs": [
    {
     "data": {
      "text/html": [
       "<div>\n",
       "<style scoped>\n",
       "    .dataframe tbody tr th:only-of-type {\n",
       "        vertical-align: middle;\n",
       "    }\n",
       "\n",
       "    .dataframe tbody tr th {\n",
       "        vertical-align: top;\n",
       "    }\n",
       "\n",
       "    .dataframe thead th {\n",
       "        text-align: right;\n",
       "    }\n",
       "</style>\n",
       "<table border=\"1\" class=\"dataframe\">\n",
       "  <thead>\n",
       "    <tr style=\"text-align: right;\">\n",
       "      <th></th>\n",
       "      <th>human_baseline_summaries</th>\n",
       "      <th>model_zero-shot</th>\n",
       "      <th>model_one-shot</th>\n",
       "      <th>peft_model1_summaries</th>\n",
       "      <th>peft_model2_summaries</th>\n",
       "    </tr>\n",
       "  </thead>\n",
       "  <tbody>\n",
       "    <tr>\n",
       "      <th>0</th>\n",
       "      <td>\\n\\n    Customer is complaining about parcel s...</td>\n",
       "      <td>\\n\\n    The customer is upset that the deliver...</td>\n",
       "      <td>\\n\\n    \"Customer enquired about his Iphone an...</td>\n",
       "      <td>\\n\\n    The user is unhappy with the parcel se...</td>\n",
       "      <td>\\n\\n    User is complaining about the bad serv...</td>\n",
       "    </tr>\n",
       "  </tbody>\n",
       "</table>\n",
       "</div>"
      ],
      "text/plain": [
       "                            human_baseline_summaries  \\\n",
       "0  \\n\\n    Customer is complaining about parcel s...   \n",
       "\n",
       "                                     model_zero-shot  \\\n",
       "0  \\n\\n    The customer is upset that the deliver...   \n",
       "\n",
       "                                      model_one-shot  \\\n",
       "0  \\n\\n    \"Customer enquired about his Iphone an...   \n",
       "\n",
       "                               peft_model1_summaries  \\\n",
       "0  \\n\\n    The user is unhappy with the parcel se...   \n",
       "\n",
       "                               peft_model2_summaries  \n",
       "0  \\n\\n    User is complaining about the bad serv...  "
      ]
     },
     "execution_count": 113,
     "metadata": {},
     "output_type": "execute_result"
    }
   ],
   "source": [
    "model_summaries_zeroshot = []\n",
    "model_summaries_oneshot = []\n",
    "peft_model1_summaries = []\n",
    "peft_model2_summaries = []\n",
    "\n",
    "generation_config = GenerationConfig(\n",
    "    max_length=512, \n",
    "    num_beams=1,\n",
    "    pad_token_id=tokenizer.eos_token_id,\n",
    "    temperature=0.7,\n",
    "\n",
    ")\n",
    "for idx, dialogue in enumerate(dialogues):\n",
    "    prompt = f\"\"\"\n",
    "Summarize the following conversation accurately:{dialogue}\n",
    "Summary: \n",
    "\"\"\"\n",
    "    \n",
    "    input_ids = tokenizer(prompt, return_tensors=\"pt\")\n",
    "    inputs = {key: value.to(\"cuda:0\") for key, value in input_ids.items()} \n",
    "    \n",
    "    input_ids1 = tokenizer(one_shot_prompt, return_tensors=\"pt\")\n",
    "    inputs1 = {key: value.to(\"cuda:0\") for key, value in input_ids1.items()} \n",
    "\n",
    "    human_baseline_text_output = human_baseline_summaries[idx]\n",
    "\n",
    "    model_outputs = model.generate(input_ids=inputs[\"input_ids\"], generation_config=generation_config)\n",
    "    model_outputs_text_output = tokenizer.decode(model_outputs[0], skip_special_tokens=True)\n",
    "    last_summary_part_model_outputs = original_model_text_output.split('Summary: ')[-1] \n",
    "    \n",
    "    model_outputs1 = model.generate(input_ids=inputs1[\"input_ids\"], generation_config=generation_config)\n",
    "    model_outputs_text_output1 = tokenizer.decode(model_outputs1[0], skip_special_tokens=True)\n",
    "    last_summary_part_model_outputs1 = original_model_text_output1.split('Summary: ')[-1] \n",
    "\n",
    "    peft_model_outputs1 = peft_model1.generate(input_ids=inputs[\"input_ids\"], generation_config=generation_config)\n",
    "    peft_model_text_output1 = tokenizer.decode(peft_model_outputs1[0], skip_special_tokens=True)\n",
    "    last_summary_part1 = peft_model_text_output1.split('Summary: ')[-1] \n",
    "\n",
    "    peft_model_outputs2 = peft_model2.generate(input_ids=inputs[\"input_ids\"], generation_config=generation_config)\n",
    "    peft_model_text_output2 = tokenizer.decode(peft_model_outputs2[0], skip_special_tokens=True)\n",
    "    last_summary_part2 = peft_model_text_output2.split('Summary: ')[-1] \n",
    "    \n",
    "    model_summaries_zeroshot.append(last_summary_part_model_outputs)\n",
    "    model_summaries_oneshot.append(last_summary_part_model_outputs1)\n",
    "\n",
    "    peft_model_summaries1.append(last_summary_part1)\n",
    "    peft_model_summaries2.append(last_summary_part2)\n",
    "\n",
    "zipped_summaries = list(zip(human_baseline_summaries, model_summaries_zeroshot, peft_model1_summaries, peft_model2_summaries))\n",
    " \n",
    "df = pd.DataFrame(zipped_summaries, columns = ['human_baseline_summaries', 'model_zero-shot','model_one-shot', 'peft_model1_summaries','peft_model2_summaries'])\n",
    "df.head()"
   ]
  },
  {
   "cell_type": "code",
   "execution_count": 115,
   "id": "450e3abf-2017-4bd6-8304-65501820c21f",
   "metadata": {
    "tags": []
   },
   "outputs": [],
   "source": [
    "import evaluate\n",
    "rouge = evaluate.load('rouge')"
   ]
  },
  {
   "cell_type": "code",
   "execution_count": 1,
   "id": "8388aaf4-2fc9-4cda-becc-514179468d4a",
   "metadata": {
    "tags": []
   },
   "outputs": [
    {
     "name": "stdout",
     "output_type": "stream",
     "text": [
      "MODEL_zeroshot:\n",
      "{'rouge1': 0.27536307411265154, 'rouge2': 0.07397794309342791, 'rougeL': 0.1745382837665075, 'rougeLsum': 0.199271106488691}\n",
      "MODEL_oneshot:\n",
      "{'rouge1': 0.27226136986216337, 'rouge2': 0.06909427214734443, 'rougeL': 0.17544978177826087, 'rougeLsum': 0.1971415170385126}\n",
      "PEFT MODEL with r=16:\n",
      "{'rouge1': 0.28749764092124547, 'rouge2': 0.09970202252113097, 'rougeL': 0.20465062765641967, 'rougeLsum': 0.180644881330203}\n",
      "None\n",
      "PEFT MODEL with r=32:\n",
      "{'rouge1': 0.30121669950569796, 'rouge2': 0.10839891415333017, 'rougeL': 0.21247028930948508, 'rougeLsum': 0.1939035231697902}\n"
     ]
    }
   ],
   "source": [
    "\n",
    "model_results_zeroshot = rouge.compute(\n",
    "    predictions=model_summaries_zeroshot,\n",
    "    references=human_baseline_summaries[0:len(model_summaries_zeroshot)],\n",
    "    use_aggregator=True,\n",
    "    use_stemmer=True,\n",
    ")\n",
    "\n",
    "\n",
    "model_results_oneshot = rouge.compute(\n",
    "    predictions=model_summaries_oneshot,\n",
    "    references=human_baseline_summaries[0:len(model_summaries_oneshot)],\n",
    "    use_aggregator=True,\n",
    "    use_stemmer=True,\n",
    ")\n",
    "\n",
    "\n",
    "peft_model_results1 = rouge.compute(\n",
    "    predictions=peft_model1_summaries,\n",
    "    references=human_baseline_summaries[0:len(peft_model_summaries1)],\n",
    "    use_aggregator=True,\n",
    "    use_stemmer=True,\n",
    ")\n",
    "peft_model_results2 = rouge.compute(\n",
    "    predictions=peft_model2_summaries,\n",
    "    references=human_baseline_summaries[0:len(peft_model_summaries2)],\n",
    "    use_aggregator=True,\n",
    "    use_stemmer=True,\n",
    ")\n",
    "\n",
    "print('MODEL_zeroshot:')\n",
    "print(model_results_zeroshot)\n",
    "print('MODEL_oneshot:')\n",
    "print(model_results_oneshot)\n",
    "print('PEFT MODEL with r=16:')\n",
    "print(peft_model_results1)\n",
    "print('PEFT MODEL with r=32:')\n",
    "print(peft_model_results2)"
   ]
  },
  {
   "cell_type": "code",
   "execution_count": null,
   "id": "36974d4c-6984-498a-9941-ab63617c0e9f",
   "metadata": {},
   "outputs": [],
   "source": []
  }
 ],
 "metadata": {
  "kernelspec": {
   "display_name": "whisper_asr",
   "language": "python",
   "name": "whisper_asr"
  },
  "language_info": {
   "codemirror_mode": {
    "name": "ipython",
    "version": 3
   },
   "file_extension": ".py",
   "mimetype": "text/x-python",
   "name": "python",
   "nbconvert_exporter": "python",
   "pygments_lexer": "ipython3",
   "version": "3.10.13"
  }
 },
 "nbformat": 4,
 "nbformat_minor": 5
}
